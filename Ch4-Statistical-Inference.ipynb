{
 "cells": [
  {
   "cell_type": "markdown",
   "metadata": {},
   "source": [
    "# Chapter 4: Statistical Inference\n",
    "This notebook is about how to infer predictions from a population. It will explore the relationship between _sample parameters_ and _population parameters_, and will propose common statistical inference methods to assess the quality of parameter estimates of sample.\n",
    "\n",
    "## Data Description\n",
    "Let's consider a dataset of accidents in Barcelona in 2013 (and later compared 2010). This dataset can be downloaded from [OpenDataBCN](https://opendata.bcn.cat/), Barcelona's City Hall open data service. Each register in the dataset represents an accident by a series of features: weekday, hour, address, number of dead, and number of injured, etc. This dataset will present the population: the set of all reported traffic accidents in Barcelona during 2013."
   ]
  },
  {
   "cell_type": "code",
   "execution_count": 1,
   "metadata": {},
   "outputs": [],
   "source": [
    "import numpy as np\n",
    "import pandas as pd\n",
    "import math\n",
    "import random\n",
    "import matplotlib.pylab as plt\n",
    "from matplotlib import cm\n",
    "%matplotlib inline\n",
    "plt.style.use('seaborn-whitegrid')\n",
    "plt.rc('xtick', labelsize=10) \n",
    "plt.rc('ytick', labelsize=10) \n",
    "plt.rc('font', size=12)"
   ]
  },
  {
   "cell_type": "code",
   "execution_count": null,
   "metadata": {},
   "outputs": [],
   "source": [
    "!wget -O ACCIDENTS_GU_BCN_2013.csv https://raw.githubusercontent.com/DataScienceUB/introduction-datascience-python-book/master/files/ch04/ACCIDENTS_GU_BCN_2013.csv\n",
    "print('Download complete!')"
   ]
  },
  {
   "cell_type": "code",
   "execution_count": 2,
   "metadata": {},
   "outputs": [
    {
     "name": "stdout",
     "output_type": "stream",
     "text": [
      "Index(['Número d'expedient', 'Codi districte', 'Nom districte', 'NK barri',\n",
      "       'Nom barri', 'Codi carrer', 'Nom carrer', 'Num postal caption',\n",
      "       'Descripció dia setmana', 'Dia de setmana', 'Descripció tipus dia',\n",
      "       'NK Any', 'Mes de any', 'Nom mes', 'Dia de mes', 'Hora de dia',\n",
      "       'Descripció torn', 'Descripció causa vianant', 'Número de morts',\n",
      "       'Número de lesionats lleus', 'Número de lesionats greus',\n",
      "       'Número de víctimes', 'Número de vehicles implicats',\n",
      "       'Coordenada UTM (Y)', 'Coordenada UTM (X)'],\n",
      "      dtype='object')\n"
     ]
    }
   ],
   "source": [
    "# read the dataset into a pandas dataframe\n",
    "data= pd.read_csv('ACCIDENTS_GU_BCN_2013.csv', encoding='latin-1')\n",
    "print(data.columns)"
   ]
  },
  {
   "cell_type": "code",
   "execution_count": 3,
   "metadata": {},
   "outputs": [
    {
     "data": {
      "text/html": [
       "<div>\n",
       "<style scoped>\n",
       "    .dataframe tbody tr th:only-of-type {\n",
       "        vertical-align: middle;\n",
       "    }\n",
       "\n",
       "    .dataframe tbody tr th {\n",
       "        vertical-align: top;\n",
       "    }\n",
       "\n",
       "    .dataframe thead th {\n",
       "        text-align: right;\n",
       "    }\n",
       "</style>\n",
       "<table border=\"1\" class=\"dataframe\">\n",
       "  <thead>\n",
       "    <tr style=\"text-align: right;\">\n",
       "      <th></th>\n",
       "      <th>Número d'expedient</th>\n",
       "      <th>Codi districte</th>\n",
       "      <th>Nom districte</th>\n",
       "      <th>NK barri</th>\n",
       "      <th>Nom barri</th>\n",
       "      <th>Codi carrer</th>\n",
       "      <th>Nom carrer</th>\n",
       "      <th>Num postal caption</th>\n",
       "      <th>Descripció dia setmana</th>\n",
       "      <th>Dia de setmana</th>\n",
       "      <th>...</th>\n",
       "      <th>Hora de dia</th>\n",
       "      <th>Descripció torn</th>\n",
       "      <th>Descripció causa vianant</th>\n",
       "      <th>Número de morts</th>\n",
       "      <th>Número de lesionats lleus</th>\n",
       "      <th>Número de lesionats greus</th>\n",
       "      <th>Número de víctimes</th>\n",
       "      <th>Número de vehicles implicats</th>\n",
       "      <th>Coordenada UTM (Y)</th>\n",
       "      <th>Coordenada UTM (X)</th>\n",
       "    </tr>\n",
       "  </thead>\n",
       "  <tbody>\n",
       "    <tr>\n",
       "      <th>0</th>\n",
       "      <td>2013S007360</td>\n",
       "      <td>-1</td>\n",
       "      <td>Desconegut</td>\n",
       "      <td>-1--1--1</td>\n",
       "      <td>Desconegut</td>\n",
       "      <td>-1</td>\n",
       "      <td>Desconegut</td>\n",
       "      <td>Desconegut</td>\n",
       "      <td>Dimecres</td>\n",
       "      <td>3</td>\n",
       "      <td>...</td>\n",
       "      <td>21</td>\n",
       "      <td>Tarda</td>\n",
       "      <td>Desconegut</td>\n",
       "      <td>0</td>\n",
       "      <td>1</td>\n",
       "      <td>0</td>\n",
       "      <td>1</td>\n",
       "      <td>2</td>\n",
       "      <td>-1</td>\n",
       "      <td>-1</td>\n",
       "    </tr>\n",
       "    <tr>\n",
       "      <th>1</th>\n",
       "      <td>2013S007723</td>\n",
       "      <td>10</td>\n",
       "      <td>Sant Martí</td>\n",
       "      <td>101-10-64</td>\n",
       "      <td>el Camp de l'Arpa del Clot</td>\n",
       "      <td>152600</td>\n",
       "      <td>Guinardó</td>\n",
       "      <td>0028 0032</td>\n",
       "      <td>Dimarts</td>\n",
       "      <td>2</td>\n",
       "      <td>...</td>\n",
       "      <td>21</td>\n",
       "      <td>Tarda</td>\n",
       "      <td>Desconegut</td>\n",
       "      <td>0</td>\n",
       "      <td>1</td>\n",
       "      <td>0</td>\n",
       "      <td>1</td>\n",
       "      <td>2</td>\n",
       "      <td>4585218,67</td>\n",
       "      <td>431621,41</td>\n",
       "    </tr>\n",
       "    <tr>\n",
       "      <th>2</th>\n",
       "      <td>2013S005373</td>\n",
       "      <td>10</td>\n",
       "      <td>Sant Martí</td>\n",
       "      <td>101-10-64</td>\n",
       "      <td>el Camp de l'Arpa del Clot</td>\n",
       "      <td>134801</td>\n",
       "      <td>Freser</td>\n",
       "      <td>0053 0053</td>\n",
       "      <td>Dimarts</td>\n",
       "      <td>2</td>\n",
       "      <td>...</td>\n",
       "      <td>10</td>\n",
       "      <td>Matí</td>\n",
       "      <td>Creuar per fora pas de vianants</td>\n",
       "      <td>0</td>\n",
       "      <td>1</td>\n",
       "      <td>0</td>\n",
       "      <td>1</td>\n",
       "      <td>1</td>\n",
       "      <td>4585049,89</td>\n",
       "      <td>431605,09</td>\n",
       "    </tr>\n",
       "    <tr>\n",
       "      <th>3</th>\n",
       "      <td>2013S001486</td>\n",
       "      <td>10</td>\n",
       "      <td>Sant Martí</td>\n",
       "      <td>101-10-64</td>\n",
       "      <td>el Camp de l'Arpa del Clot</td>\n",
       "      <td>161407</td>\n",
       "      <td>Indústria</td>\n",
       "      <td>0224 0224</td>\n",
       "      <td>Dimarts</td>\n",
       "      <td>2</td>\n",
       "      <td>...</td>\n",
       "      <td>10</td>\n",
       "      <td>Matí</td>\n",
       "      <td>Altres</td>\n",
       "      <td>0</td>\n",
       "      <td>1</td>\n",
       "      <td>0</td>\n",
       "      <td>1</td>\n",
       "      <td>1</td>\n",
       "      <td>4584836,20</td>\n",
       "      <td>431302,26</td>\n",
       "    </tr>\n",
       "    <tr>\n",
       "      <th>4</th>\n",
       "      <td>2013S008254</td>\n",
       "      <td>10</td>\n",
       "      <td>Sant Martí</td>\n",
       "      <td>101-10-64</td>\n",
       "      <td>el Camp de l'Arpa del Clot</td>\n",
       "      <td>161101</td>\n",
       "      <td>Independència</td>\n",
       "      <td>0357 0357</td>\n",
       "      <td>Dilluns</td>\n",
       "      <td>1</td>\n",
       "      <td>...</td>\n",
       "      <td>16</td>\n",
       "      <td>Tarda</td>\n",
       "      <td>Desconegut</td>\n",
       "      <td>0</td>\n",
       "      <td>1</td>\n",
       "      <td>0</td>\n",
       "      <td>1</td>\n",
       "      <td>2</td>\n",
       "      <td>4584704,26</td>\n",
       "      <td>431385,76</td>\n",
       "    </tr>\n",
       "  </tbody>\n",
       "</table>\n",
       "<p>5 rows × 25 columns</p>\n",
       "</div>"
      ],
      "text/plain": [
       "  Número d'expedient  Codi districte Nom districte   NK barri  \\\n",
       "0        2013S007360              -1    Desconegut   -1--1--1   \n",
       "1        2013S007723              10    Sant Martí  101-10-64   \n",
       "2        2013S005373              10    Sant Martí  101-10-64   \n",
       "3        2013S001486              10    Sant Martí  101-10-64   \n",
       "4        2013S008254              10    Sant Martí  101-10-64   \n",
       "\n",
       "                    Nom barri  Codi carrer     Nom carrer Num postal caption  \\\n",
       "0                  Desconegut           -1     Desconegut         Desconegut   \n",
       "1  el Camp de l'Arpa del Clot       152600       Guinardó          0028 0032   \n",
       "2  el Camp de l'Arpa del Clot       134801         Freser          0053 0053   \n",
       "3  el Camp de l'Arpa del Clot       161407      Indústria          0224 0224   \n",
       "4  el Camp de l'Arpa del Clot       161101  Independència          0357 0357   \n",
       "\n",
       "  Descripció dia setmana  Dia de setmana  ... Hora de dia  Descripció torn  \\\n",
       "0               Dimecres               3  ...          21            Tarda   \n",
       "1                Dimarts               2  ...          21            Tarda   \n",
       "2                Dimarts               2  ...          10             Matí   \n",
       "3                Dimarts               2  ...          10             Matí   \n",
       "4                Dilluns               1  ...          16            Tarda   \n",
       "\n",
       "          Descripció causa vianant Número de morts  Número de lesionats lleus  \\\n",
       "0                       Desconegut               0                          1   \n",
       "1                       Desconegut               0                          1   \n",
       "2  Creuar per fora pas de vianants               0                          1   \n",
       "3                           Altres               0                          1   \n",
       "4                       Desconegut               0                          1   \n",
       "\n",
       "   Número de lesionats greus Número de víctimes Número de vehicles implicats  \\\n",
       "0                          0                  1                            2   \n",
       "1                          0                  1                            2   \n",
       "2                          0                  1                            1   \n",
       "3                          0                  1                            1   \n",
       "4                          0                  1                            2   \n",
       "\n",
       "   Coordenada UTM (Y)  Coordenada UTM (X)  \n",
       "0                  -1                  -1  \n",
       "1          4585218,67           431621,41  \n",
       "2          4585049,89           431605,09  \n",
       "3          4584836,20           431302,26  \n",
       "4          4584704,26           431385,76  \n",
       "\n",
       "[5 rows x 25 columns]"
      ]
     },
     "execution_count": 3,
     "metadata": {},
     "output_type": "execute_result"
    }
   ],
   "source": [
    "data.head()"
   ]
  },
  {
   "cell_type": "markdown",
   "metadata": {},
   "source": [
    "Create a new DataFrame which is the date and the number of accidents on that day. "
   ]
  },
  {
   "cell_type": "code",
   "execution_count": 4,
   "metadata": {},
   "outputs": [
    {
     "name": "stdout",
     "output_type": "stream",
     "text": [
      "Mean: 25.90958904109589\n"
     ]
    }
   ],
   "source": [
    "# create a new column date\n",
    "data['Date']='2013-'+data['Mes de any'].apply(lambda x: str(x)) + '-' + data['Dia de mes'].apply(lambda x: str(x))\n",
    "data['Date']= pd.to_datetime(data['Date'])\n",
    "accidents = data.groupby('Date').size()\n",
    "print('Mean:', accidents.mean())"
   ]
  },
  {
   "cell_type": "markdown",
   "metadata": {},
   "source": [
    "Suppose we are interested in describing the number of daily traffic accidents (__accident rate__) in the street of Barcelona during 2013. In order to get an impression of the data, we can plot the number of accidents for each day of 2013.  "
   ]
  },
  {
   "cell_type": "code",
   "execution_count": 5,
   "metadata": {},
   "outputs": [
    {
     "data": {
      "image/png": "[encoded data removed]",
      "text/plain": [
       "<Figure size 864x288 with 1 Axes>"
      ]
     },
     "metadata": {},
     "output_type": "display_data"
    }
   ],
   "source": [
    "fig, ax = plt.subplots(1,1, figsize=(12,4))\n",
    "plt.ylabel('Number of Accidents')\n",
    "plt.xlabel('Day')\n",
    "plt.plot(range(0,365), np.array(accidents), 'b-+', lw=.7, alpha=.7)\n",
    "plt.plot(range(0,365), [accidents.mean()]*365, 'r-', alpha=.5)\n",
    "plt.show();"
   ]
  },
  {
   "cell_type": "markdown",
   "metadata": {},
   "source": [
    "Alternatively, we can plot the distribution of our variable of interest: daily number of accidents."
   ]
  },
  {
   "cell_type": "code",
   "execution_count": 6,
   "metadata": {},
   "outputs": [
    {
     "data": {
      "image/png": "[encoded data removed]",
      "text/plain": [
       "<Figure size 864x216 with 1 Axes>"
      ]
     },
     "metadata": {},
     "output_type": "display_data"
    }
   ],
   "source": [
    "fig, ax = plt.subplots(1,1,figsize=(12,3))\n",
    "plt.ylabel('Frequency')\n",
    "plt.ylabel('Number of Accidents')\n",
    "plt.hist(np.array(accidents), bins=(20), color='b', edgecolor='black')\n",
    "ax.axvline(x=accidents.mean(), ymin=0, ymax=40, color=[1,0,0], linewidth=2)\n",
    "plt.show();"
   ]
  },
  {
   "cell_type": "markdown",
   "metadata": {},
   "source": [
    "If we have access to the whole _population_, the computation of the __accident rate__ in 2013 is a simple operation: the total number of accidents divided by 365 days. As a measure quality of this parameter, we can also compute the standard deviation. "
   ]
  },
  {
   "cell_type": "code",
   "execution_count": 7,
   "metadata": {},
   "outputs": [
    {
     "name": "stdout",
     "output_type": "stream",
     "text": [
      "Mean = 25.9096\n",
      "STD = 9.1083\n"
     ]
    }
   ],
   "source": [
    "print('Mean = %.4f'% accidents.mean())\n",
    "print('STD = %.4f'% accidents.std())"
   ]
  },
  {
   "cell_type": "markdown",
   "metadata": {},
   "source": [
    "However, in most real-world datasets, we only have access to a limited part of the data (_the sample_): the number of accidents during some days of 2013. Can we still give an approximation (_an estimate_) to the population parameters? \n",
    "\n",
    "## Variability in estimates\n",
    "Estimates generally vary from one sample to another, and this sampling variation suggests our estimate may be close, but will not be exactly equal to the parameter.\n",
    "\n",
    "This can be easily checked by generating 10 different, random samples (composed of 25% of the population) from our population and computing their accident rate estimates."
   ]
  },
  {
   "cell_type": "code",
   "execution_count": 8,
   "metadata": {},
   "outputs": [
    {
     "name": "stdout",
     "output_type": "stream",
     "text": [
      "Sample 0: Mean 24.7717\n",
      "Sample 1: Mean 25.9457\n",
      "Sample 2: Mean 26.3152\n",
      "Sample 3: Mean 27.8804\n",
      "Sample 4: Mean 25.2500\n",
      "Sample 5: Mean 25.4348\n",
      "Sample 6: Mean 26.2717\n",
      "Sample 7: Mean 26.1957\n",
      "Sample 8: Mean 25.0870\n",
      "Sample 9: Mean 27.6957\n"
     ]
    }
   ],
   "source": [
    "df = accidents.to_frame()\n",
    "m = []\n",
    "\n",
    "for i in range (10):\n",
    "    df['for_testing']=False\n",
    "    sampled_ids = np.random.choice(df.index,\n",
    "                                  size=np.int64(np.ceil(df.index.size*0.25)),\n",
    "                                  replace=False)\n",
    "    df.loc[sampled_ids, 'for_testing']=True\n",
    "    accidents_sample= df[df['for_testing']==True]\n",
    "    m.append(accidents_sample[0].mean())\n",
    "    print('Sample '+str(i)+': Mean','%.4f'%accidents_sample[0].mean())"
   ]
  },
  {
   "cell_type": "code",
   "execution_count": 9,
   "metadata": {},
   "outputs": [
    {
     "data": {
      "image/png": "[encoded data removed]",
      "text/plain": [
       "<Figure size 864x216 with 1 Axes>"
      ]
     },
     "metadata": {},
     "output_type": "display_data"
    }
   ],
   "source": [
    "fig, ax = plt.subplots(1,1,figsize=(12,3))\n",
    "x = range(10)\n",
    "ax.step(x,m,where='mid',color='b',linewidth=2)\n",
    "ax.set_ylabel('Mean')\n",
    "ax.set_xlabel('Sample');"
   ]
  },
  {
   "cell_type": "markdown",
   "metadata": {},
   "source": [
    "Accident rate estimates can range from 24 accidents per day to 28 accidents per day, depending on the sample. But how can we give a unique value for the estimate?\n",
    "\n",
    "## Sampling distribution of point estimates\n",
    "The most intuitive way to go about giving a value for the estimate is to simply take the _sample mean_. The sample mean is point estimate of the population mean. If we can only choose one value to estimate the population mean, this would be our best guess.\n",
    "\n",
    "Let's compute the sample means for set of 10,000 samples, each one composed of 200 days to obtain a robust answer."
   ]
  },
  {
   "cell_type": "code",
   "execution_count": 10,
   "metadata": {},
   "outputs": [
    {
     "name": "stdout",
     "output_type": "stream",
     "text": [
      "Sample Mean: 25.9092\n"
     ]
    },
    {
     "data": {
      "text/plain": [
       "<Figure size 432x288 with 0 Axes>"
      ]
     },
     "metadata": {},
     "output_type": "display_data"
    },
    {
     "data": {
      "image/png": "[encoded data removed]",
      "text/plain": [
       "<Figure size 864x288 with 1 Axes>"
      ]
     },
     "metadata": {},
     "output_type": "display_data"
    }
   ],
   "source": [
    "plt.autumn()\n",
    "# population\n",
    "df= accidents.to_frame()\n",
    "N_test = 10000\n",
    "elements = 200\n",
    "# mean array of samples\n",
    "means= [0]*N_test\n",
    "# sample generation\n",
    "for i in range(N_test):\n",
    "    rows= np.random.choice(df.index.values, elements)\n",
    "    sampled_df= df.loc[rows]\n",
    "    means[i]= sampled_df.mean()\n",
    "print('Sample Mean: %.4f'%np.array(means).mean())\n",
    "\n",
    "fig, ax = plt.subplots(1,1,figsize=(12,4));\n",
    "plt.hist(np.array(means),bins=50,color='b',edgecolor='black')\n",
    "plt.ylabel('Frequency')\n",
    "plt.xlabel('Sample mean value')\n",
    "ax.axvline(x=np.array(means).mean(),\n",
    "          ymin=0,\n",
    "          ymax=700,\n",
    "          color=[1,0,0],\n",
    "          linewidth=2)\n",
    "plt.show();"
   ]
  },
  {
   "cell_type": "markdown",
   "metadata": {},
   "source": [
    "This is the __sampling distribution of the mean__. From it we could estimate the most probable value of the mean and also its standard deviation, but in the real world, we will not have access to this function! \n",
    "\n",
    "## Standard Error (SE) of the mean\n",
    "\n",
    "Suppose we have only one sample of the population. As mentioned before, the mean estimate from that sample may be close, but not exactly equal to the population parameter of interest. For this reason, it is interesting to measure its variability with respect to the sampling process. To this end, we can use the _standard error of the mean_.\n",
    "\n",
    "It can be mathematically shown that given $n$ independent observations $x_1,..., x_n$ from a population with a standard deviation of $\\sigma_x$, the standard deviation of the sample mean $\\sigma_\\bar{x}$, or the __standard error__ is:\n",
    "\n",
    "__SE__ $= \\frac{\\sigma_x}{\\sqrt{n}}$\n",
    "\n",
    "This allows to __estimate the standard deviation of the sample mean__ even if we cannot perform the simulation process (for instance, because we have no access to the population data). Usually, $\\sigma_x$ is not known and it is substituted by its empirical estimate (that is sufficiently good if $n>30$ and the population distribution is not skewed)."
   ]
  },
  {
   "cell_type": "code",
   "execution_count": 11,
   "metadata": {},
   "outputs": [
    {
     "name": "stdout",
     "output_type": "stream",
     "text": [
      "Direct estimation of SE from one sample of 200 elements: 0.6513\n",
      "Estimation of the SE by simulating 10000 samples of 200 elements: 0.6405\n"
     ]
    }
   ],
   "source": [
    "rows = np.random.choice(df.index.values, elements)\n",
    "sampled_df = df.loc[rows]\n",
    "est_sigma_mean = sampled_df.std()/math.sqrt(elements)\n",
    "print('Direct estimation of SE from one sample of',elements,'elements: %.4f' %est_sigma_mean[0])\n",
    "print('Estimation of the SE by simulating 10000 samples of',elements,'elements: %.4f' %np.array(means).std())"
   ]
  },
  {
   "cell_type": "markdown",
   "metadata": {},
   "source": [
    "Quantifying the standard deviation of other estimates: median, standard deviation, etc. But unlike in the case of sample mean, there is no simple formula for the standard error of other sample estimates, e.g. median.\n",
    "\n",
    "Let'S consider from the whole accidents dataset as a sample from a hypothetical population (this is the most common situation when analyzing real data).\n",
    "\n",
    "## Bootstrapping the standard error of the mean\n",
    "A modern alternative to the traditional approach to statistical inference is the _bootstrapping method_. In the bootstrap, we draw $N$ observations with replacement from the original data to create a bootstrap sample or resample. Then, we can calculate the mean for this resample. By repreating this process a large number of times, we can built a good approximation of the mean sampling distribution.\n",
    "\n",
    "Define a function __meanBootstrap__ that requires our input variable $X$ and the $numberb$ as the number of times we run the process. "
   ]
  },
  {
   "cell_type": "code",
   "execution_count": 12,
   "metadata": {},
   "outputs": [],
   "source": [
    "def meanBootstrap(X,numberb):\n",
    "    import numpy as np\n",
    "    x= [0]*numberb\n",
    "    for i in range(numberb):\n",
    "        sample= [X[_] for _ in np.random.randint(len(X),size=len(X))]\n",
    "        x[i]= np.mean(sample)\n",
    "    return x"
   ]
  },
  {
   "cell_type": "raw",
   "metadata": {},
   "source": []
  },
  {
   "cell_type": "code",
   "execution_count": 13,
   "metadata": {},
   "outputs": [
    {
     "name": "stdout",
     "output_type": "stream",
     "text": [
      "Mean estimate= 25.9106\n"
     ]
    }
   ],
   "source": [
    "m= meanBootstrap(accidents,10000)\n",
    "print('Mean estimate= %.4f' %np.mean(m))"
   ]
  },
  {
   "cell_type": "code",
   "execution_count": 14,
   "metadata": {},
   "outputs": [
    {
     "data": {
      "image/png": "[encoded data removed]",
      "text/plain": [
       "<Figure size 864x216 with 1 Axes>"
      ]
     },
     "metadata": {},
     "output_type": "display_data"
    }
   ],
   "source": [
    "fig, ax = plt.subplots(1,1,figsize=(12,3))\n",
    "plt.ylabel('Frequency')\n",
    "plt.xlabel('Sample mean value')\n",
    "plt.hist(m, bins=50, density=True, color='b', edgecolor='black');\n",
    "ax.axvline(x=np.mean(m), ymin=0.0, ymax=1.0, color=[1,0,0]);"
   ]
  },
  {
   "cell_type": "markdown",
   "metadata": {},
   "source": [
    "This bootstrapping method can be applied to other simple estimates such as the median or the variance:"
   ]
  },
  {
   "cell_type": "code",
   "execution_count": 15,
   "metadata": {},
   "outputs": [],
   "source": [
    "def medBootstrap(X,numberb):\n",
    "    import numpy as np\n",
    "    x = [0]*numberb\n",
    "    for i in range(numberb):\n",
    "        sample = [X[_] for _ in np.random.randint(len(X), size=len(X))]\n",
    "        x[i] = np.median(sample)\n",
    "    return x"
   ]
  },
  {
   "cell_type": "code",
   "execution_count": 16,
   "metadata": {},
   "outputs": [
    {
     "name": "stdout",
     "output_type": "stream",
     "text": [
      "Median estimate= 26.3012\n"
     ]
    },
    {
     "data": {
      "image/png": "[encoded data removed]",
      "text/plain": [
       "<Figure size 864x216 with 1 Axes>"
      ]
     },
     "metadata": {},
     "output_type": "display_data"
    }
   ],
   "source": [
    "med= medBootstrap(accidents,10000)\n",
    "print('Median estimate= %.4f'%np.mean(med))\n",
    "fig, ax= plt.subplots(1,1,figsize=(12,3))\n",
    "plt.hist(med, bins=5, density=True, color='b', edgecolor='black');\n",
    "plt.ylabel('Frequency')\n",
    "plt.xlabel('Sample median value')\n",
    "ax.axvline(x=np.array(med).mean(),ymin=0.0,ymax=1.0,color=[1,0,0]);"
   ]
  },
  {
   "cell_type": "markdown",
   "metadata": {},
   "source": [
    "## Confidence Intervals\n",
    "A point estimate provides a single plausible value for a parameter. However, a point estimate is rarely perfect; usually there is some error in the estimate. That is why we use the standard error as a measure of its variability.\n",
    "\n",
    "As an alternative, a next logical step is to provide a _plausible range of values_ for the parameter. A plausible range of values for the sample parameter is called a __confidence interval__.\n",
    "\n",
    "The definition of confidence interval is based on two ideas:\n",
    "* Our point estimate is the most plausible value of the parameter, so it males sense to build the confidence interval around the point estimate.\n",
    "* The plausibility of a range of values can be defined from the sampling distribuion of the estimate.\n",
    "\n",
    "In order to define an interval, we can make use of a well-known result from probability that apploed to normal distribuions: _roughly 95% of the time, our be within 1.96 standard errors of the true mean of the distribuions_.\n",
    "\n",
    "__CI__ $= [\\Theta - 1.96 * SE,\\Theta + 1.96 * SE ]$\n",
    "\n",
    "| Confidence Level | z-Value |\n",
    "|------------------|---------|\n",
    "| 90% | 1.65 |\n",
    "| 95% | 1.96 |\n",
    "| 99% | 2.58 |\n",
    "| 99.9% | 3.291 |"
   ]
  },
  {
   "cell_type": "code",
   "execution_count": 17,
   "metadata": {},
   "outputs": [
    {
     "name": "stdout",
     "output_type": "stream",
     "text": [
      "Confidence Intervals: [24.9752 26.844 ]\n"
     ]
    }
   ],
   "source": [
    "m= accidents.mean()\n",
    "se= accidents.std()/math.sqrt(len(accidents))\n",
    "ci= [m-se*1.96, m+se*1.96]\n",
    "print('Confidence Intervals:', np.round(ci, 4))"
   ]
  },
  {
   "cell_type": "markdown",
   "metadata": {},
   "source": [
    "This is how to compute a 95% confidence interval of the sample mean by using bootstrapping:\n",
    "1. Repeat the following steps a large number $M$ of times:\n",
    "     * Draw $N$ observations with replacement from the original data to create a bootstrap sample or resample;\n",
    "     * Calculate the mean for the resample.\n",
    "2. Calculate the __mean__ of your $M$ values of the sample statistic. This process gives you a \"bootstrapped\" estimate of the sample statistic.\n",
    "3. Calculate the __standard deviation__ of your $M$ values of the sample statistic. This process gives you \"bootstrapped\" estimate of the __SE__ of the sample statistic.\n",
    "4. Obtain the 2.5th and 97.5th percentiles of your $M$ values of the sample statistic."
   ]
  },
  {
   "cell_type": "code",
   "execution_count": 20,
   "metadata": {},
   "outputs": [
    {
     "name": "stdout",
     "output_type": "stream",
     "text": [
      "Mean estimate: 25.9148\n",
      "SE of the estimate: 0.4765\n",
      "Confidence Interval:  [24.9699 26.8521]\n"
     ]
    }
   ],
   "source": [
    "m= meanBootstrap(accidents,10000)\n",
    "sample_mean= np.mean(m)\n",
    "sample_se= np.std(m)\n",
    "print('Mean estimate: %.4f'% sample_mean)\n",
    "print('SE of the estimate: %.4f'% sample_se)\n",
    "\n",
    "ci= [np.percentile(m,2.5), np.percentile(m,97.5)]\n",
    "print('Confidence Interval: ', np.round(ci, 4))"
   ]
  },
  {
   "cell_type": "markdown",
   "metadata": {},
   "source": [
    "## What is the real meaning of Confidence Intervals?\n",
    "The real meaning of \"confidence\" is not evident and it must be understood from the point of view of the generating process.\n",
    "\n",
    "Suppose we take many (infinte) samples from a population and built a 95% confidence interval from each sample. Then, about 95% of those intervals would contain the actual parameter.\n",
    "\n",
    "This can shown by simulating a large number of samples and checking how many intervals contain the true parameter:"
   ]
  },
  {
   "cell_type": "code",
   "execution_count": 21,
   "metadata": {},
   "outputs": [
    {
     "data": {
      "image/png": "[encoded data removed]",
      "text/plain": [
       "<Figure size 864x360 with 1 Axes>"
      ]
     },
     "metadata": {},
     "output_type": "display_data"
    }
   ],
   "source": [
    "df=accidents\n",
    "n= 100              # number of observations\n",
    "N_test= 100         # number of samples with n observations\n",
    "means= np.array([0.0]*N_test)    # samples' mean\n",
    "s= np.array([0.0]*N_test)        # samples' std\n",
    "ci= np.array([[0.0,0.0]]*N_test)\n",
    "tm= df.mean()                    # 'true' mean\n",
    "\n",
    "for i in range(N_test):          # sample generation\n",
    "    rows= np.random.choice(df.index.values, n)\n",
    "    sampled_df= df.loc[rows]\n",
    "    means[i]= sampled_df.mean()\n",
    "    s[i]= sampled_df.std()\n",
    "    ci[i]= means[i] + np.array([-s[i] *1.96/np.sqrt(n), s[i] *1.96/np.sqrt(n)])\n",
    "\n",
    "out1= ci[:,0] > tm               # CI that do not contain the true mean\n",
    "out2= ci[:,1] < tm\n",
    "\n",
    "fig, ax= plt.subplots(1,1,figsize=(12,5))\n",
    "ind= np.arange(1,N_test+1)\n",
    "ax.axhline(y=tm, xmin=0, xmax=N_test+1, color=[0,0,0])\n",
    "ci= np.transpose(ci)\n",
    "ax.plot([ind,ind],\n",
    "       ci,\n",
    "       color='0.75',\n",
    "       marker='_',\n",
    "       ms=0,\n",
    "       linewidth=3)\n",
    "ax.plot([ind[out1],ind[out1]],\n",
    "       ci[:, out1],\n",
    "       color=[1,0,0,0.8],\n",
    "       marker='_',\n",
    "       ms=0,\n",
    "       linewidth=3)\n",
    "ax.plot([ind[out2],ind[out2]],\n",
    "       ci[:, out2],\n",
    "       color=[1,0,0,0.8],\n",
    "       marker='_',\n",
    "       ms=0,\n",
    "       linewidth=3)\n",
    "ax.plot(ind,\n",
    "        means, \n",
    "        color=[0,0.8,0.2,0.8],\n",
    "        marker='.',\n",
    "        ms=12,\n",
    "        linestyle='')\n",
    "ax.set_ylabel('Confidence interval for the samples\\' mean estimate', fontsize=12)\n",
    "ax.set_xlabel('Samples (with %d observation).' %n, fontsize=12)\n",
    "plt.show();"
   ]
  },
  {
   "cell_type": "markdown",
   "metadata": {},
   "source": [
    "Understanding the CI Plot:\n",
    "* the black horizontal line represent the \"true mean\" of the population\n",
    "* the grey vertical lines represent the CI of different samples each with 100 observations\n",
    "* the green point these lines represent their individual mean\n",
    "* if the CI lines interset with \"true mean\"-line, then the confidence interval includes the true mean (95 out of 100)\n",
    "* the red horizontal lines highlight, where this condition is not met (5 out of 100)\n",
    "* this proves that roughly 95% of those intervals do contain the actual parameter"
   ]
  },
  {
   "cell_type": "markdown",
   "metadata": {},
   "source": [
    "## Hypothesis Testing\n",
    "To give a measure of variability of our estimates is a way of producing a statistical proposition about the population, but not the only one. R.A.Fisher (1890-1962) proposed an alternative, known as hypothesis testing, that is based on the concept of _statistical significance_.\n",
    "\n",
    "Let's suppose that a deeper analysis of traffic accidents in Barcelona results in a difference between 2010 and 2013. Of course, the difference could be caused only by chance, because of the variability of both estimates. But it could also be the case that traffic conditions are very different in Barcelona during these two periods and, because of this, data from these two periods can be considered as belonging to two different populations. Then, the relevant question is: _Are the observed effects real or not?_\n",
    "\n",
    "The process of determining the statistical significance of an effect is called __hypothesis testing__. This process starts by simplifying the research question into two competing hypotheses:\n",
    "* $H_0$: The mean number of daily traffic accidents is the same in 2013 and 2010 (there is only one population, one true mean, and 2010 & 2013 are just different samples from the same population).\n",
    "* $H_1$: The mean number of daily traffic accidents for 2010 and 2013 is different (2010 & 2013 are two samples from two different populations).\n",
    "\n",
    "We call $H_0$ the _null hypothesis_ and it represents a skeptical point of view: the effect we have observed is due to change (due to the specific sample bias).\n",
    "\n",
    "$H_A$ is called the _alternative hypothesis_ and represents the other point of view: the effect is real.\n",
    "\n",
    "The general rule of frequentist hypothesis testing is: We will not discard $H_0$ (and hence will not consider $H_A$) unless the observed effect is implausible under $H_0$.\n",
    "\n",
    "### Testing hypothesis using confidence intervals\n",
    "We can use the concept represented by confidence intervals to measure the plausibility of a hypothesis.\n",
    "\n",
    "We can illustrate the evaluation of the hypotheses setup by comparing the mean rate of traffic accidents in Barcelona during 2010 and 2013 using a point estimate from 2013 sample: "
   ]
  },
  {
   "cell_type": "code",
   "execution_count": null,
   "metadata": {},
   "outputs": [],
   "source": [
    "!wget -O ACCIDENTS_GU_BCN_2010.csv https://raw.githubusercontent.com/DataScienceUB/introduction-datascience-python-book/master/files/ch04/ACCIDENTS_GU_BCN_2010.csv\n",
    "print('Download complete!')"
   ]
  },
  {
   "cell_type": "markdown",
   "metadata": {},
   "source": [
    "Create two DataFrames that have the day and its accident count for each year respectively.  "
   ]
  },
  {
   "cell_type": "code",
   "execution_count": 22,
   "metadata": {},
   "outputs": [
    {
     "name": "stdout",
     "output_type": "stream",
     "text": [
      "2010 Mean: 24.8110\n",
      "2014 Mean: 25.9096\n"
     ]
    }
   ],
   "source": [
    "data= pd.read_csv('ACCIDENTS_GU_BCN_2010.csv', encoding='latin-1')\n",
    "data['Date']=data['Dia de mes'].apply(lambda x: str(x)) + '-' + data['Mes de any'].apply(lambda x: str(x))\n",
    "\n",
    "data2= data['Date']\n",
    "counts2010= data['Date'].value_counts()\n",
    "print('2010 Mean: %.4f'% counts2010.mean())\n",
    "\n",
    "data= pd.read_csv('ACCIDENTS_GU_BCN_2013.csv', encoding='latin-1')\n",
    "data['Date']=data['Dia de mes'].apply(lambda x: str(x)) + '-' + data['Mes de any'].apply(lambda x: str(x))\n",
    "data2= data['Date']\n",
    "counts2013= data['Date'].value_counts()\n",
    "print('2014 Mean: %.4f'% counts2013.mean())"
   ]
  },
  {
   "cell_type": "markdown",
   "metadata": {},
   "source": [
    "This estimate suggests that during 2013 the mean rate of traffic accidents in Barcelona __was higher__ than 2010. Hypothesis testing is asking: But is this effect statistically significant?\n",
    "\n",
    "Based on our sample, the 95% confidence interval for the mean rate of traffic accidents in Barcelona during 2013 can be calculated as:"
   ]
  },
  {
   "cell_type": "code",
   "execution_count": 23,
   "metadata": {},
   "outputs": [
    {
     "name": "stdout",
     "output_type": "stream",
     "text": [
      "2010 accident rate estimate: 24.8110\n",
      "2013 accident rate estimate: 25.9096\n",
      "Confidence Interval for 2013:  [24.9752 26.844 ]\n"
     ]
    }
   ],
   "source": [
    "n= len(counts2013)\n",
    "mean= counts2013.mean()\n",
    "s= counts2013.std()\n",
    "ci= [mean-s*1.96/np.sqrt(n), mean+s*1.96/np.sqrt(n)]\n",
    "print('2010 accident rate estimate: %.4f'% counts2010.mean())\n",
    "print('2013 accident rate estimate: %.4f'% counts2013.mean())\n",
    "print('Confidence Interval for 2013: ', np.round(ci, 4))"
   ]
  },
  {
   "cell_type": "markdown",
   "metadata": {},
   "source": [
    "Because the 2010 accident rate estimate does not fall in the range of plausible values of 2013, we can say the alternative hypothesis cannot be discarded. That means it cannot be discarted taht during 2013 the mean rate of traffic accidents in Barcelona was higher than during 2010.\n",
    "\n",
    "### Testing Hypothesis using p-values\n",
    "A more advanced notion of statistical significance was developed by R.A.Fisher in the 1920's when looking for a test to decide whether variation in crop yields were due to some specific intervention or merely randon factors beyond experimental control. Fisher first assumed that fertilizer caused no difference (null hypothesis) and then calculated $P$, the probability that an observed yield in a fertilized field would occur if fertilizer had no real effect. This probability is called __p-value__.\n",
    "\n",
    "The p-value is the probability of observing data at least as favorable to the alternative hypothesis as our current data set, if the null hypothesis is true.\n",
    "\n",
    "To apply a test of hypotheses to our problem, the first step is to quantify the size of the apparent effect by choosing a test statistic. In our case, the apparent effect is a difference in accident rates, so a natural choice for the test statistic is the difference in means between the two periods:"
   ]
  },
  {
   "cell_type": "code",
   "execution_count": 24,
   "metadata": {},
   "outputs": [
    {
     "name": "stdout",
     "output_type": "stream",
     "text": [
      "m:  365 n:  365\n",
      "mean difference: 1.0986\n"
     ]
    }
   ],
   "source": [
    "m= len(counts2010)\n",
    "n= len(counts2013)\n",
    "p= (counts2013.mean()-counts2010.mean())\n",
    "print('m: ',m,'n: ',n)\n",
    "print('mean difference: %.4f'% p)"
   ]
  },
  {
   "cell_type": "markdown",
   "metadata": {},
   "source": [
    "The second step is to defie a null hypothesis, which is a model of a system based on the assumption that the apparent effect is not real. In our case, the $H_0$ null hypothesis is that there is not difference between the two periods. The $H_A$ alternative hypothesis is that during 2013 the mean rate of traffic accidents in Barcelone was higher than in 2010.\n",
    "\n",
    "The third step is to compute a p-value, which is the probability of seeing the apparent effect if the null hypothesis is true. In our case, we would compute the absolute difference in means, then compute the probability of seeing a difference as big, or bigger, under the null hypothesis.\n",
    "\n",
    "Usually, if P is less than 0.05 (the change of fluke is less than 5%) the result is declared statistically significant.\n",
    "\n",
    "To approximate the p-value, we can follow this procedure:\n",
    "1. Pool the distributions, generate samples with size $n$ and compute the difference in the mean.\n",
    "2. Generate samples with size $n$ and compute the difference in the mean.\n",
    "3. Count how many differences are larger than the observed one.$H_0$"
   ]
  },
  {
   "cell_type": "code",
   "execution_count": 25,
   "metadata": {},
   "outputs": [
    {
     "data": {
      "image/png": "[encoded data removed]",
      "text/plain": [
       "<Figure size 864x216 with 1 Axes>"
      ]
     },
     "metadata": {},
     "output_type": "display_data"
    }
   ],
   "source": [
    "x = counts2010\n",
    "y = counts2013\n",
    "pool = np.concatenate([x,y])\n",
    "np.random.shuffle(pool)\n",
    "\n",
    "fig, ax = plt.subplots(1, 1, figsize=(12, 3))\n",
    "plt.hist(pool, bins = 25, density=True, color='b', edgecolor='black')\n",
    "plt.ylabel('Frequency')\n",
    "plt.xlabel('Number of accidents')\n",
    "plt.title(\"Pooled distribution\");"
   ]
  },
  {
   "cell_type": "code",
   "execution_count": 26,
   "metadata": {},
   "outputs": [
    {
     "data": {
      "image/png": "[encoded data removed]",
      "text/plain": [
       "<Figure size 864x216 with 1 Axes>"
      ]
     },
     "metadata": {},
     "output_type": "display_data"
    }
   ],
   "source": [
    "from six.moves import xrange\n",
    "N= 10000\n",
    "diff = list(range(N))\n",
    "for i in range(N):\n",
    "    p1= [random.choice(pool) for _ in xrange(n)]\n",
    "    p2= [random.choice(pool) for _ in xrange(n)]\n",
    "    diff[i] = (np.mean(p1)-np.mean(p2))\n",
    "    \n",
    "fig, ax= plt.subplots(1,1,figsize=(12,3))\n",
    "plt.hist(diff, bins=50, density=True, color='b', edgecolor='black')\n",
    "plt.ylabel('Frequency')\n",
    "plt.xlabel('Difference in the mean');"
   ]
  },
  {
   "cell_type": "code",
   "execution_count": 27,
   "metadata": {},
   "outputs": [
    {
     "data": {
      "text/plain": [
       "475"
      ]
     },
     "execution_count": 27,
     "metadata": {},
     "output_type": "execute_result"
    }
   ],
   "source": [
    "diff2= np.array(diff)\n",
    "w1= np.where(diff2> p)[0]\n",
    "len(w1)"
   ]
  },
  {
   "cell_type": "markdown",
   "metadata": {},
   "source": [
    "If there are $k$ sample pairs where the difference in mean is as big or bigger than 0.05, the p-value is approximately $k/N$. In our case:"
   ]
  },
  {
   "cell_type": "code",
   "execution_count": 28,
   "metadata": {},
   "outputs": [
    {
     "name": "stdout",
     "output_type": "stream",
     "text": [
      "p_values (Simulation) = 0.0475 ( 4.75 %) Difference = 1.0986\n",
      "The effect is likely\n"
     ]
    }
   ],
   "source": [
    "print('p_values (Simulation) =', len(w1)/float(N), '(', len(w1)/float(N)*100, '%)', 'Difference = %.4f'% p)\n",
    "if len(w1)/float(N)<0.05:\n",
    "    print('The effect is likely')\n",
    "else:\n",
    "    print('The effect is unlikely')"
   ]
  },
  {
   "cell_type": "markdown",
   "metadata": {},
   "source": [
    "We have defined the effect as a difference in mean as big as or bigger than the observed difference, taking into account the significane. A test like this is called _one-sided_.\n",
    "\n",
    "If the relevant question is whether the accident rates are different, then it makes sense to test the absolute difference in means. This kind of test is called _two-sided_ because it counts both sides of the distribution of differences."
   ]
  },
  {
   "cell_type": "markdown",
   "metadata": {},
   "source": [
    "__Source:__\n",
    "\n",
    "Igual, Laura, and Santi Seguí. \"Chapter 4: Statistical Inference.\" In _Introduction to Data Science_, pp. 51-65. Springer, 2017.\n",
    "\n",
    "Link to the [original notebook](https://github.com/DataScienceUB/introduction-datascience-python-book/blob/master/ch04_Statistical_Inference.ipynb)."
   ]
  }
 ],
 "metadata": {
  "kernelspec": {
   "display_name": "Python",
   "language": "python",
   "name": "conda-env-python-py"
  },
  "language_info": {
   "codemirror_mode": {
    "name": "ipython",
    "version": 3
   },
   "file_extension": ".py",
   "mimetype": "text/x-python",
   "name": "python",
   "nbconvert_exporter": "python",
   "pygments_lexer": "ipython3",
   "version": "3.6.11"
  }
 },
 "nbformat": 4,
 "nbformat_minor": 4
}
