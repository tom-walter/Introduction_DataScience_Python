{
 "cells": [
  {
   "cell_type": "markdown",
   "metadata": {},
   "source": [
    "# Chapter 3: Descriptive Statistics\n",
    "This notebook is about descriptive statistics and comprises concepts, terms, measures and toool to help describe, show and summarize the data in a meaningful way. When analysing data, such as the price of flats per year, it is possible to use both descriptive and inferential statistics in order to analyse the results and draw some conclusions. This notebook will discuss basic concepts like mean, median, variance, correlation, etc. to explore, describe and summarize a given dataset.\n",
    "\n",
    "Statistics is based on main 2 concepts:\n",
    "* A __population__ is a collection of objects, items (\"units\") about which information is sought.\n",
    "* A __sample__ is a part of the population that is observed.\n",
    "\n",
    "## 1.1 The Dataset\n",
    "__\"Are men more likely to become high-income professionials i.e. to receive an income bigger than USD 50K?\"__\n",
    "\n",
    "Let's consider a public dataset called \"Adult\" hosted on the [UCI's Machine Learning Repositoriy](https://archive.ics.uci.edu/ml/datasets/Adult), that contains approximately 32.000 observations about different financial and demographic parameters of US population.\n",
    "\n",
    "## 1.2 Data Preparation\n",
    "One of the reasons we are using a general-purpose language such as Python rather than a stats language like R is that for many projects, the hard part is preparing the data, not the analysis.\n",
    "\n",
    "The most common steps of data preparation are:\n",
    "1. __Getting the data.__ Data can be directly read from almost any file in Python or, if necessary, it can be scrapped from the web.\n",
    "2. __Parsing the data.__ This dependds on what format the data is in: plain text, fixed columns, CVS, XML, HTML, etc.\n",
    "3. __Cleaning the data.__ Survey responses and other data files are almost alaways incomplete. Sometimes there are multiple codes for instances that mean the same, e.g. _not asked, did not know,_ or _declined to answer._ Likewise spelling mistakes make two different entities out of the very same object. There are almost always errors and missing data. A simple strategy is to remove either rows or columns with incomplete records. Other strategies aim to replace missing or erroneous data.\n",
    "4. __Building data structures.__ Once you read the data, you usually want to store it in a data structure that lends itself to the analysis you want to do. If the data fits into memory, building a data structure is usually the way to go. If not, you could build a database, which is an out-of-memory data structure. Most databases provide a mapping from keys to values, so they are like dictionaries."
   ]
  },
  {
   "cell_type": "code",
   "execution_count": null,
   "metadata": {},
   "outputs": [],
   "source": [
    "!wget -O adult.data https://raw.githubusercontent.com/DataScienceUB/introduction-datascience-python-book/master/files/ch03/adult.data\n",
    "print('Download complete!')"
   ]
  },
  {
   "cell_type": "markdown",
   "metadata": {},
   "source": [
    "## 1.3 Importing the Dataset\n",
    "Read the dataset into memory. Split the lines into `int` or `str` using `', '` as delimiter. This will help to read the dataset into Pandas DataFrame."
   ]
  },
  {
   "cell_type": "code",
   "execution_count": 1,
   "metadata": {},
   "outputs": [],
   "source": [
    "file = open('adult.data', 'r')"
   ]
  },
  {
   "cell_type": "code",
   "execution_count": 2,
   "metadata": {},
   "outputs": [],
   "source": [
    "def chr_int(a):\n",
    "    if a.isdigit():\n",
    "        return int(a)\n",
    "    else:\n",
    "        return(0)\n",
    "    \n",
    "data=[]\n",
    "for line in file:\n",
    "    data1=line.split(', ')\n",
    "    if len(data1)==15:\n",
    "        data.append([chr_int(data1[0]),data1[1],chr_int(data1[2]),data1[3],chr_int(data1[4]),data1[5],data1[6],\\\n",
    "            data1[7],data1[8],data1[9],chr_int(data1[10]),chr_int(data1[11]),chr_int(data1[12]),data1[13],\\\n",
    "            data1[14]])"
   ]
  },
  {
   "cell_type": "code",
   "execution_count": 3,
   "metadata": {},
   "outputs": [
    {
     "name": "stdout",
     "output_type": "stream",
     "text": [
      "[[50, 'Self-emp-not-inc', 83311, 'Bachelors', 13, 'Married-civ-spouse', 'Exec-managerial', 'Husband', 'White', 'Male', 0, 0, 13, 'United-States', '<=50K\\n']]\n"
     ]
    }
   ],
   "source": [
    "print(data[1:2])"
   ]
  },
  {
   "cell_type": "code",
   "execution_count": 4,
   "metadata": {},
   "outputs": [
    {
     "data": {
      "text/html": [
       "<div>\n",
       "<style scoped>\n",
       "    .dataframe tbody tr th:only-of-type {\n",
       "        vertical-align: middle;\n",
       "    }\n",
       "\n",
       "    .dataframe tbody tr th {\n",
       "        vertical-align: top;\n",
       "    }\n",
       "\n",
       "    .dataframe thead th {\n",
       "        text-align: right;\n",
       "    }\n",
       "</style>\n",
       "<table border=\"1\" class=\"dataframe\">\n",
       "  <thead>\n",
       "    <tr style=\"text-align: right;\">\n",
       "      <th></th>\n",
       "      <th>age</th>\n",
       "      <th>type_employer</th>\n",
       "      <th>fnlwgt</th>\n",
       "      <th>education</th>\n",
       "      <th>education_num</th>\n",
       "      <th>marital</th>\n",
       "      <th>occupation</th>\n",
       "      <th>relationship</th>\n",
       "      <th>race</th>\n",
       "      <th>sex</th>\n",
       "      <th>capital_gain</th>\n",
       "      <th>capital_loss</th>\n",
       "      <th>hr_per_week</th>\n",
       "      <th>country</th>\n",
       "      <th>income</th>\n",
       "    </tr>\n",
       "  </thead>\n",
       "  <tbody>\n",
       "    <tr>\n",
       "      <th>0</th>\n",
       "      <td>39</td>\n",
       "      <td>State-gov</td>\n",
       "      <td>77516</td>\n",
       "      <td>Bachelors</td>\n",
       "      <td>13</td>\n",
       "      <td>Never-married</td>\n",
       "      <td>Adm-clerical</td>\n",
       "      <td>Not-in-family</td>\n",
       "      <td>White</td>\n",
       "      <td>Male</td>\n",
       "      <td>2174</td>\n",
       "      <td>0</td>\n",
       "      <td>40</td>\n",
       "      <td>United-States</td>\n",
       "      <td>&lt;=50K\\n</td>\n",
       "    </tr>\n",
       "    <tr>\n",
       "      <th>1</th>\n",
       "      <td>50</td>\n",
       "      <td>Self-emp-not-inc</td>\n",
       "      <td>83311</td>\n",
       "      <td>Bachelors</td>\n",
       "      <td>13</td>\n",
       "      <td>Married-civ-spouse</td>\n",
       "      <td>Exec-managerial</td>\n",
       "      <td>Husband</td>\n",
       "      <td>White</td>\n",
       "      <td>Male</td>\n",
       "      <td>0</td>\n",
       "      <td>0</td>\n",
       "      <td>13</td>\n",
       "      <td>United-States</td>\n",
       "      <td>&lt;=50K\\n</td>\n",
       "    </tr>\n",
       "    <tr>\n",
       "      <th>2</th>\n",
       "      <td>38</td>\n",
       "      <td>Private</td>\n",
       "      <td>215646</td>\n",
       "      <td>HS-grad</td>\n",
       "      <td>9</td>\n",
       "      <td>Divorced</td>\n",
       "      <td>Handlers-cleaners</td>\n",
       "      <td>Not-in-family</td>\n",
       "      <td>White</td>\n",
       "      <td>Male</td>\n",
       "      <td>0</td>\n",
       "      <td>0</td>\n",
       "      <td>40</td>\n",
       "      <td>United-States</td>\n",
       "      <td>&lt;=50K\\n</td>\n",
       "    </tr>\n",
       "    <tr>\n",
       "      <th>3</th>\n",
       "      <td>53</td>\n",
       "      <td>Private</td>\n",
       "      <td>234721</td>\n",
       "      <td>11th</td>\n",
       "      <td>7</td>\n",
       "      <td>Married-civ-spouse</td>\n",
       "      <td>Handlers-cleaners</td>\n",
       "      <td>Husband</td>\n",
       "      <td>Black</td>\n",
       "      <td>Male</td>\n",
       "      <td>0</td>\n",
       "      <td>0</td>\n",
       "      <td>40</td>\n",
       "      <td>United-States</td>\n",
       "      <td>&lt;=50K\\n</td>\n",
       "    </tr>\n",
       "    <tr>\n",
       "      <th>4</th>\n",
       "      <td>28</td>\n",
       "      <td>Private</td>\n",
       "      <td>338409</td>\n",
       "      <td>Bachelors</td>\n",
       "      <td>13</td>\n",
       "      <td>Married-civ-spouse</td>\n",
       "      <td>Prof-specialty</td>\n",
       "      <td>Wife</td>\n",
       "      <td>Black</td>\n",
       "      <td>Female</td>\n",
       "      <td>0</td>\n",
       "      <td>0</td>\n",
       "      <td>40</td>\n",
       "      <td>Cuba</td>\n",
       "      <td>&lt;=50K\\n</td>\n",
       "    </tr>\n",
       "    <tr>\n",
       "      <th>5</th>\n",
       "      <td>37</td>\n",
       "      <td>Private</td>\n",
       "      <td>284582</td>\n",
       "      <td>Masters</td>\n",
       "      <td>14</td>\n",
       "      <td>Married-civ-spouse</td>\n",
       "      <td>Exec-managerial</td>\n",
       "      <td>Wife</td>\n",
       "      <td>White</td>\n",
       "      <td>Female</td>\n",
       "      <td>0</td>\n",
       "      <td>0</td>\n",
       "      <td>40</td>\n",
       "      <td>United-States</td>\n",
       "      <td>&lt;=50K\\n</td>\n",
       "    </tr>\n",
       "    <tr>\n",
       "      <th>6</th>\n",
       "      <td>49</td>\n",
       "      <td>Private</td>\n",
       "      <td>160187</td>\n",
       "      <td>9th</td>\n",
       "      <td>5</td>\n",
       "      <td>Married-spouse-absent</td>\n",
       "      <td>Other-service</td>\n",
       "      <td>Not-in-family</td>\n",
       "      <td>Black</td>\n",
       "      <td>Female</td>\n",
       "      <td>0</td>\n",
       "      <td>0</td>\n",
       "      <td>16</td>\n",
       "      <td>Jamaica</td>\n",
       "      <td>&lt;=50K\\n</td>\n",
       "    </tr>\n",
       "    <tr>\n",
       "      <th>7</th>\n",
       "      <td>52</td>\n",
       "      <td>Self-emp-not-inc</td>\n",
       "      <td>209642</td>\n",
       "      <td>HS-grad</td>\n",
       "      <td>9</td>\n",
       "      <td>Married-civ-spouse</td>\n",
       "      <td>Exec-managerial</td>\n",
       "      <td>Husband</td>\n",
       "      <td>White</td>\n",
       "      <td>Male</td>\n",
       "      <td>0</td>\n",
       "      <td>0</td>\n",
       "      <td>45</td>\n",
       "      <td>United-States</td>\n",
       "      <td>&gt;50K\\n</td>\n",
       "    </tr>\n",
       "    <tr>\n",
       "      <th>8</th>\n",
       "      <td>31</td>\n",
       "      <td>Private</td>\n",
       "      <td>45781</td>\n",
       "      <td>Masters</td>\n",
       "      <td>14</td>\n",
       "      <td>Never-married</td>\n",
       "      <td>Prof-specialty</td>\n",
       "      <td>Not-in-family</td>\n",
       "      <td>White</td>\n",
       "      <td>Female</td>\n",
       "      <td>14084</td>\n",
       "      <td>0</td>\n",
       "      <td>50</td>\n",
       "      <td>United-States</td>\n",
       "      <td>&gt;50K\\n</td>\n",
       "    </tr>\n",
       "    <tr>\n",
       "      <th>9</th>\n",
       "      <td>42</td>\n",
       "      <td>Private</td>\n",
       "      <td>159449</td>\n",
       "      <td>Bachelors</td>\n",
       "      <td>13</td>\n",
       "      <td>Married-civ-spouse</td>\n",
       "      <td>Exec-managerial</td>\n",
       "      <td>Husband</td>\n",
       "      <td>White</td>\n",
       "      <td>Male</td>\n",
       "      <td>5178</td>\n",
       "      <td>0</td>\n",
       "      <td>40</td>\n",
       "      <td>United-States</td>\n",
       "      <td>&gt;50K\\n</td>\n",
       "    </tr>\n",
       "  </tbody>\n",
       "</table>\n",
       "</div>"
      ],
      "text/plain": [
       "   age     type_employer  fnlwgt  education  education_num  \\\n",
       "0   39         State-gov   77516  Bachelors             13   \n",
       "1   50  Self-emp-not-inc   83311  Bachelors             13   \n",
       "2   38           Private  215646    HS-grad              9   \n",
       "3   53           Private  234721       11th              7   \n",
       "4   28           Private  338409  Bachelors             13   \n",
       "5   37           Private  284582    Masters             14   \n",
       "6   49           Private  160187        9th              5   \n",
       "7   52  Self-emp-not-inc  209642    HS-grad              9   \n",
       "8   31           Private   45781    Masters             14   \n",
       "9   42           Private  159449  Bachelors             13   \n",
       "\n",
       "                 marital         occupation   relationship   race     sex  \\\n",
       "0          Never-married       Adm-clerical  Not-in-family  White    Male   \n",
       "1     Married-civ-spouse    Exec-managerial        Husband  White    Male   \n",
       "2               Divorced  Handlers-cleaners  Not-in-family  White    Male   \n",
       "3     Married-civ-spouse  Handlers-cleaners        Husband  Black    Male   \n",
       "4     Married-civ-spouse     Prof-specialty           Wife  Black  Female   \n",
       "5     Married-civ-spouse    Exec-managerial           Wife  White  Female   \n",
       "6  Married-spouse-absent      Other-service  Not-in-family  Black  Female   \n",
       "7     Married-civ-spouse    Exec-managerial        Husband  White    Male   \n",
       "8          Never-married     Prof-specialty  Not-in-family  White  Female   \n",
       "9     Married-civ-spouse    Exec-managerial        Husband  White    Male   \n",
       "\n",
       "   capital_gain  capital_loss  hr_per_week        country   income  \n",
       "0          2174             0           40  United-States  <=50K\\n  \n",
       "1             0             0           13  United-States  <=50K\\n  \n",
       "2             0             0           40  United-States  <=50K\\n  \n",
       "3             0             0           40  United-States  <=50K\\n  \n",
       "4             0             0           40           Cuba  <=50K\\n  \n",
       "5             0             0           40  United-States  <=50K\\n  \n",
       "6             0             0           16        Jamaica  <=50K\\n  \n",
       "7             0             0           45  United-States   >50K\\n  \n",
       "8         14084             0           50  United-States   >50K\\n  \n",
       "9          5178             0           40  United-States   >50K\\n  "
      ]
     },
     "execution_count": 4,
     "metadata": {},
     "output_type": "execute_result"
    }
   ],
   "source": [
    "import pandas as pd\n",
    "df = pd.DataFrame(data)\n",
    "df.columns = ['age','type_employer','fnlwgt','education','education_num',\n",
    "             'marital','occupation','relationship','race','sex','capital_gain',\n",
    "             'capital_loss','hr_per_week','country','income']\n",
    "df.head(10)"
   ]
  },
  {
   "cell_type": "code",
   "execution_count": 5,
   "metadata": {},
   "outputs": [
    {
     "data": {
      "text/html": [
       "<div>\n",
       "<style scoped>\n",
       "    .dataframe tbody tr th:only-of-type {\n",
       "        vertical-align: middle;\n",
       "    }\n",
       "\n",
       "    .dataframe tbody tr th {\n",
       "        vertical-align: top;\n",
       "    }\n",
       "\n",
       "    .dataframe thead th {\n",
       "        text-align: right;\n",
       "    }\n",
       "</style>\n",
       "<table border=\"1\" class=\"dataframe\">\n",
       "  <thead>\n",
       "    <tr style=\"text-align: right;\">\n",
       "      <th></th>\n",
       "      <th>age</th>\n",
       "      <th>type_employer</th>\n",
       "      <th>fnlwgt</th>\n",
       "      <th>education</th>\n",
       "      <th>education_num</th>\n",
       "      <th>marital</th>\n",
       "      <th>occupation</th>\n",
       "      <th>relationship</th>\n",
       "      <th>race</th>\n",
       "      <th>sex</th>\n",
       "      <th>capital_gain</th>\n",
       "      <th>capital_loss</th>\n",
       "      <th>hr_per_week</th>\n",
       "      <th>country</th>\n",
       "      <th>income</th>\n",
       "    </tr>\n",
       "  </thead>\n",
       "  <tbody>\n",
       "    <tr>\n",
       "      <th>32556</th>\n",
       "      <td>27</td>\n",
       "      <td>Private</td>\n",
       "      <td>257302</td>\n",
       "      <td>Assoc-acdm</td>\n",
       "      <td>12</td>\n",
       "      <td>Married-civ-spouse</td>\n",
       "      <td>Tech-support</td>\n",
       "      <td>Wife</td>\n",
       "      <td>White</td>\n",
       "      <td>Female</td>\n",
       "      <td>0</td>\n",
       "      <td>0</td>\n",
       "      <td>38</td>\n",
       "      <td>United-States</td>\n",
       "      <td>&lt;=50K\\n</td>\n",
       "    </tr>\n",
       "    <tr>\n",
       "      <th>32557</th>\n",
       "      <td>40</td>\n",
       "      <td>Private</td>\n",
       "      <td>154374</td>\n",
       "      <td>HS-grad</td>\n",
       "      <td>9</td>\n",
       "      <td>Married-civ-spouse</td>\n",
       "      <td>Machine-op-inspct</td>\n",
       "      <td>Husband</td>\n",
       "      <td>White</td>\n",
       "      <td>Male</td>\n",
       "      <td>0</td>\n",
       "      <td>0</td>\n",
       "      <td>40</td>\n",
       "      <td>United-States</td>\n",
       "      <td>&gt;50K\\n</td>\n",
       "    </tr>\n",
       "    <tr>\n",
       "      <th>32558</th>\n",
       "      <td>58</td>\n",
       "      <td>Private</td>\n",
       "      <td>151910</td>\n",
       "      <td>HS-grad</td>\n",
       "      <td>9</td>\n",
       "      <td>Widowed</td>\n",
       "      <td>Adm-clerical</td>\n",
       "      <td>Unmarried</td>\n",
       "      <td>White</td>\n",
       "      <td>Female</td>\n",
       "      <td>0</td>\n",
       "      <td>0</td>\n",
       "      <td>40</td>\n",
       "      <td>United-States</td>\n",
       "      <td>&lt;=50K\\n</td>\n",
       "    </tr>\n",
       "    <tr>\n",
       "      <th>32559</th>\n",
       "      <td>22</td>\n",
       "      <td>Private</td>\n",
       "      <td>201490</td>\n",
       "      <td>HS-grad</td>\n",
       "      <td>9</td>\n",
       "      <td>Never-married</td>\n",
       "      <td>Adm-clerical</td>\n",
       "      <td>Own-child</td>\n",
       "      <td>White</td>\n",
       "      <td>Male</td>\n",
       "      <td>0</td>\n",
       "      <td>0</td>\n",
       "      <td>20</td>\n",
       "      <td>United-States</td>\n",
       "      <td>&lt;=50K\\n</td>\n",
       "    </tr>\n",
       "    <tr>\n",
       "      <th>32560</th>\n",
       "      <td>52</td>\n",
       "      <td>Self-emp-inc</td>\n",
       "      <td>287927</td>\n",
       "      <td>HS-grad</td>\n",
       "      <td>9</td>\n",
       "      <td>Married-civ-spouse</td>\n",
       "      <td>Exec-managerial</td>\n",
       "      <td>Wife</td>\n",
       "      <td>White</td>\n",
       "      <td>Female</td>\n",
       "      <td>15024</td>\n",
       "      <td>0</td>\n",
       "      <td>40</td>\n",
       "      <td>United-States</td>\n",
       "      <td>&gt;50K\\n</td>\n",
       "    </tr>\n",
       "  </tbody>\n",
       "</table>\n",
       "</div>"
      ],
      "text/plain": [
       "       age type_employer  fnlwgt   education  education_num  \\\n",
       "32556   27       Private  257302  Assoc-acdm             12   \n",
       "32557   40       Private  154374     HS-grad              9   \n",
       "32558   58       Private  151910     HS-grad              9   \n",
       "32559   22       Private  201490     HS-grad              9   \n",
       "32560   52  Self-emp-inc  287927     HS-grad              9   \n",
       "\n",
       "                  marital         occupation relationship   race     sex  \\\n",
       "32556  Married-civ-spouse       Tech-support         Wife  White  Female   \n",
       "32557  Married-civ-spouse  Machine-op-inspct      Husband  White    Male   \n",
       "32558             Widowed       Adm-clerical    Unmarried  White  Female   \n",
       "32559       Never-married       Adm-clerical    Own-child  White    Male   \n",
       "32560  Married-civ-spouse    Exec-managerial         Wife  White  Female   \n",
       "\n",
       "       capital_gain  capital_loss  hr_per_week        country   income  \n",
       "32556             0             0           38  United-States  <=50K\\n  \n",
       "32557             0             0           40  United-States   >50K\\n  \n",
       "32558             0             0           40  United-States  <=50K\\n  \n",
       "32559             0             0           20  United-States  <=50K\\n  \n",
       "32560         15024             0           40  United-States   >50K\\n  "
      ]
     },
     "execution_count": 5,
     "metadata": {},
     "output_type": "execute_result"
    }
   ],
   "source": [
    "df.tail()"
   ]
  },
  {
   "cell_type": "code",
   "execution_count": 6,
   "metadata": {},
   "outputs": [
    {
     "data": {
      "text/plain": [
       "(32561, 15)"
      ]
     },
     "execution_count": 6,
     "metadata": {},
     "output_type": "execute_result"
    }
   ],
   "source": [
    "df.shape"
   ]
  },
  {
   "cell_type": "markdown",
   "metadata": {},
   "source": [
    "Count the number of items (i.e. adults) per country:"
   ]
  },
  {
   "cell_type": "code",
   "execution_count": 7,
   "metadata": {},
   "outputs": [
    {
     "name": "stdout",
     "output_type": "stream",
     "text": [
      "United-States                 29170\n",
      "Mexico                          643\n",
      "?                               583\n",
      "Philippines                     198\n",
      "Germany                         137\n",
      "Canada                          121\n",
      "Puerto-Rico                     114\n",
      "El-Salvador                     106\n",
      "India                           100\n",
      "Cuba                             95\n",
      "England                          90\n",
      "Jamaica                          81\n",
      "South                            80\n",
      "China                            75\n",
      "Italy                            73\n",
      "Dominican-Republic               70\n",
      "Vietnam                          67\n",
      "Guatemala                        64\n",
      "Japan                            62\n",
      "Poland                           60\n",
      "Columbia                         59\n",
      "Taiwan                           51\n",
      "Haiti                            44\n",
      "Iran                             43\n",
      "Portugal                         37\n",
      "Nicaragua                        34\n",
      "Peru                             31\n",
      "Greece                           29\n",
      "France                           29\n",
      "Ecuador                          28\n",
      "Ireland                          24\n",
      "Hong                             20\n",
      "Cambodia                         19\n",
      "Trinadad&Tobago                  19\n",
      "Laos                             18\n",
      "Thailand                         18\n",
      "Yugoslavia                       16\n",
      "Outlying-US(Guam-USVI-etc)       14\n",
      "Honduras                         13\n",
      "Hungary                          13\n",
      "Scotland                         12\n",
      "Holand-Netherlands                1\n",
      "Name: country, dtype: int64\n"
     ]
    }
   ],
   "source": [
    "counts = df['country'].value_counts()\n",
    "print(counts)"
   ]
  },
  {
   "cell_type": "markdown",
   "metadata": {},
   "source": [
    "Count the number of items by age:"
   ]
  },
  {
   "cell_type": "code",
   "execution_count": 8,
   "metadata": {},
   "outputs": [
    {
     "data": {
      "text/plain": [
       "36    898\n",
       "31    888\n",
       "34    886\n",
       "23    877\n",
       "35    876\n",
       "     ... \n",
       "83      6\n",
       "85      3\n",
       "88      3\n",
       "87      1\n",
       "86      1\n",
       "Name: age, Length: 73, dtype: int64"
      ]
     },
     "execution_count": 8,
     "metadata": {},
     "output_type": "execute_result"
    }
   ],
   "source": [
    "age = df['age'].value_counts()\n",
    "age"
   ]
  },
  {
   "cell_type": "markdown",
   "metadata": {},
   "source": [
    "Create a DataFrame `male` that only includes all male adults.\n",
    "Create another DataFrame `male_50k` that only inlcudes all male, high-income adults. "
   ]
  },
  {
   "cell_type": "code",
   "execution_count": 9,
   "metadata": {},
   "outputs": [
    {
     "data": {
      "text/plain": [
       "(21790, 15)"
      ]
     },
     "execution_count": 9,
     "metadata": {},
     "output_type": "execute_result"
    }
   ],
   "source": [
    "male = df[df.sex=='Male']\n",
    "male.shape"
   ]
  },
  {
   "cell_type": "code",
   "execution_count": 10,
   "metadata": {},
   "outputs": [
    {
     "data": {
      "text/plain": [
       "(6662, 15)"
      ]
     },
     "execution_count": 10,
     "metadata": {},
     "output_type": "execute_result"
    }
   ],
   "source": [
    "male_50k = df[(df.sex=='Male')&(df.income=='>50K\\n')]\n",
    "male_50k.shape"
   ]
  },
  {
   "cell_type": "markdown",
   "metadata": {},
   "source": [
    "Do same for women, calling the DataFrames `female` and `female_50k`."
   ]
  },
  {
   "cell_type": "code",
   "execution_count": 11,
   "metadata": {},
   "outputs": [
    {
     "data": {
      "text/plain": [
       "(10771, 15)"
      ]
     },
     "execution_count": 11,
     "metadata": {},
     "output_type": "execute_result"
    }
   ],
   "source": [
    "female = df[df.sex=='Female']\n",
    "female.shape"
   ]
  },
  {
   "cell_type": "code",
   "execution_count": 12,
   "metadata": {},
   "outputs": [
    {
     "data": {
      "text/plain": [
       "(1179, 15)"
      ]
     },
     "execution_count": 12,
     "metadata": {},
     "output_type": "execute_result"
    }
   ],
   "source": [
    "female_50k = df[(df.sex=='Female') & (df.income=='>50K\\n')]\n",
    "female_50k.shape"
   ]
  },
  {
   "cell_type": "markdown",
   "metadata": {},
   "source": [
    "Compute the percentage all people with high income, of men with high income, and women with high income."
   ]
  },
  {
   "cell_type": "code",
   "execution_count": 13,
   "metadata": {},
   "outputs": [
    {
     "name": "stdout",
     "output_type": "stream",
     "text": [
      "The rate of people with high income is 24 %.\n",
      "The rate of men with high income is 30 %.\n",
      "The rate of women with high income is 10 %.\n"
     ]
    }
   ],
   "source": [
    "df1=df[(df.income=='>50K\\n')]\n",
    "print('The rate of people with high income is', int(len(df1)/float(len(df))*100), '%.')\n",
    "print('The rate of men with high income is', int(len(male_50k)/float(len(male))*100), '%.')\n",
    "print('The rate of women with high income is', int(len(female_50k)/float(len(female))*100), '%.')"
   ]
  },
  {
   "cell_type": "markdown",
   "metadata": {},
   "source": [
    "## 1.4 Data Cleaning\n",
    "The most common steps are:\n",
    "* __Sample the data.__ If the amount of raw data is huge, processing all of the may require an extensive amount of processing power and time, which may not be practical. In this case, it is common to sample the input data to reduce the size of data that need to be processed.\n",
    "* __Impute missing data.__ As mentioned before, it is also common that some input records are incomplete in the sense that certain fields are missing or have an input error. In a typical tabular data format, we need to validate each record contains the same number of fields and field contains the data type we expect. In case the record has some fields missing, we have the following choices:\n",
    "    - (a) Discard the whole record (row or column) if it is incomplete;\n",
    "    - (b) Infer the missing value based on the data from other records. A common approach for continuous missing data is to fill it with average or median. Missing categorical data could be filled with the mode.\n",
    "* __Normalize numeric values.__ Normalizing data is about transforming numeric data into a uniform range (e.g. this is import for distance-based algorithms).\n",
    "* __Reduce dimensionality.__ High dimensionality can be a problem for some machine learning methods. There are two ways to reduce the number of input features. One is about _removing irrelevant_ input variables, another one is about _removing redundant_ input variables.\n",
    "* __Add derived features.__ In some cases, we may need to compute additional attributes from existing attributes (.e.g converting zip code into a geo-location).\n",
    "* __Discrete numeric values into categories.__ Discretizing data is about cutting continuous values into ranges and assigning the numeric with the corresponding bucket of the range it falls on. For numeric attributes, a common way to generalize it is to discretize it into ranges, which can be either constant width (height/frequency) or variable width (height).\n",
    "* __Binarize categorial attributes.__ Certain machine learning models only take binary input (or numeric input). In this case, we need to convert categorical attributes into multiple binary attributes, while each binary atrtibute corresponds to a particular value of the category.\n",
    "* __Select, combine, aggregate data.__ Designing the form of training data is the most important part of the whole predictive modelling exercise because the accuracy largely depends on whether the input features are structured in an appropriate form that provide strong signals to the learning algorithm. Rather than using raw data as it is, it common that multiple pieces of raw data need to be combined together, or aggregating multiple raw data records along some dimension. "
   ]
  },
  {
   "cell_type": "markdown",
   "metadata": {},
   "source": [
    "## 2.1 Summarizing Data\n",
    "__Sample Mean__\n",
    "\n",
    "The mean is the most basic and important summary statistic. It describes the central tendency of a sample. The sample mean is the sum of all values divided by the number of values:\n",
    "\n",
    "$ \\mu = \\frac{1}{n} \\sum^{n}_{i=1} x_i$"
   ]
  },
  {
   "cell_type": "code",
   "execution_count": 14,
   "metadata": {},
   "outputs": [
    {
     "name": "stdout",
     "output_type": "stream",
     "text": [
      "The average age of men is 39.43\n",
      "The average age of women is 36.86\n"
     ]
    }
   ],
   "source": [
    "print('The average age of men is %.2f' % male['age'].mean())\n",
    "print('The average age of women is %.2f' % female['age'].mean())"
   ]
  },
  {
   "cell_type": "code",
   "execution_count": 15,
   "metadata": {},
   "outputs": [
    {
     "name": "stdout",
     "output_type": "stream",
     "text": [
      "The average age of high-income men is 44.63\n",
      "The average age of high-income women is 42.13\n"
     ]
    }
   ],
   "source": [
    "print('The average age of high-income men is %.2f' % male_50k['age'].mean())\n",
    "print('The average age of high-income women is %.2f' % female_50k['age'].mean())"
   ]
  },
  {
   "cell_type": "markdown",
   "metadata": {},
   "source": [
    "__Sample Variance and Standard Deviation__\n",
    "\n",
    "Usually, the mean is not sufficient descriptor of the data, we can do a little better with two numbers:\n",
    "\n",
    "Variance $\\sigma^2$ describes the spread of data:\n",
    "\n",
    "$\\sigma^2 = \\frac{1}{n} \\sum^n_i=1 (x_i - \\mu)^2$\n",
    "\n",
    "The square root of variance, $\\sigma$, is called the standard deviation. We define standard deviation because variance is hard to interpret (in the case the units are grams, the variance is in grams squared). \n",
    "\n",
    "$\\sigma = \\sqrt{ \\frac{1}{n} \\sum^n_i=1 (x_i - \\mu)^2}$\n",
    "\n",
    "Let's get the basic statistics for our example data:"
   ]
  },
  {
   "cell_type": "code",
   "execution_count": 16,
   "metadata": {},
   "outputs": [
    {
     "name": "stdout",
     "output_type": "stream",
     "text": [
      "Sample stats for age of men: mu: 39.43354749885268 var: 178.77375174529985 std: 13.370630192526448\n",
      "Sample stats for age of wommen: mu: 36.85823043357163 var: 196.3837063948063 std: 14.013697099438332\n"
     ]
    }
   ],
   "source": [
    "# sample variance\n",
    "ml_mu = male['age'].mean()\n",
    "fm_mu = female['age'].mean()\n",
    "ml_var = male['age'].var()\n",
    "fm_var = female['age'].var()\n",
    "ml_std = male['age'].std()\n",
    "fm_std = female['age'].std()\n",
    "print('Sample stats for age of men: mu:', ml_mu, 'var:', ml_var, 'std:',ml_std)\n",
    "print('Sample stats for age of wommen: mu:', fm_mu, 'var:', fm_var, 'std:',fm_std)"
   ]
  },
  {
   "cell_type": "code",
   "execution_count": 17,
   "metadata": {},
   "outputs": [
    {
     "name": "stdout",
     "output_type": "stream",
     "text": [
      "Statistics of hours per week for men: mu: 42.42808627810923 var: 146.88846717140746 std: 12.11975524387384\n",
      "Statistics  of hours per week for women: mu: 36.410361154953115 var: 139.50679700047422 std: 11.811299547487323\n"
     ]
    }
   ],
   "source": [
    "ml_mu_hr = male['hr_per_week'].mean()\n",
    "fm_mu_hr = female['hr_per_week'].mean()\n",
    "ml_var_hr = male['hr_per_week'].var()\n",
    "fm_var_hr = female['hr_per_week'].var()\n",
    "ml_std_hr = male['hr_per_week'].std()\n",
    "fm_std_hr = female['hr_per_week'].std()\n",
    "print('Statistics of hours per week for men: mu:', ml_mu_hr, 'var:', ml_var_hr, 'std:', ml_std_hr)\n",
    "print('Statistics  of hours per week for women: mu:', fm_mu_hr, 'var:', fm_var_hr, 'std:', fm_std_hr)"
   ]
  },
  {
   "cell_type": "markdown",
   "metadata": {},
   "source": [
    "__Sample Median__\n",
    "\n",
    "The statistical median is an order statistic that gives the middle value of a sample. It is a value more robust to ouliers."
   ]
  },
  {
   "cell_type": "code",
   "execution_count": 18,
   "metadata": {},
   "outputs": [
    {
     "name": "stdout",
     "output_type": "stream",
     "text": [
      "Median age of men and women is 38.0 and 35.0\n",
      "Median age of high-income men and women is 44.0 and 41.0\n"
     ]
    }
   ],
   "source": [
    "# sample median\n",
    "ml_median = male['age'].median()\n",
    "fm_median = female['age'].median()\n",
    "print('Median age of men and women is', ml_median, 'and', fm_median)\n",
    "\n",
    "ml_median_50 = male_50k['age'].median()\n",
    "fm_median_50 = female_50k['age'].median()\n",
    "print('Median age of high-income men and women is', ml_median_50, 'and', fm_median_50)"
   ]
  },
  {
   "cell_type": "code",
   "execution_count": 19,
   "metadata": {},
   "outputs": [
    {
     "name": "stdout",
     "output_type": "stream",
     "text": [
      "Median hours per week per men and women:  40.0 and 40.0\n"
     ]
    }
   ],
   "source": [
    "ml_median_hr= male['hr_per_week'].median()\n",
    "fm_median_hr= female['hr_per_week'].median()\n",
    "print (\"Median hours per week per men and women: \", ml_median_hr, 'and', fm_median_hr)"
   ]
  },
  {
   "cell_type": "markdown",
   "metadata": {},
   "source": [
    "__Quantiles and Percentiles__\n",
    "\n",
    "Sometimes we are interested in observing how sample ata are distributed in general. In this case, we can order the samples $x_i$, then find the $x_p$ so that it divides the data into two parts, where:\n",
    "* a fraction $p$ of the value is less than or equal to $x_p$ and\n",
    "* the remaining fraction $(1-p)$ is greater than $x_p$.\n",
    "\n",
    "The value, $x_p$, is the _p-th_ quantile, or the 100 x _p-th_ percentile. For example, a 5-number summary is defined by the vales $x$<sub>min</sub>$, Q_1, Q_2, Q_3, x$<sub>max</sub>, where $Q_1$ is the 25 x _p-th_ percentile, $Q_2$ 50 x _p-th_ percentile, and $Q_3$ is the 75 x _p-th_ percentile."
   ]
  },
  {
   "cell_type": "markdown",
   "metadata": {},
   "source": [
    "## 2.2 Histogram\n",
    "The most common representation of a distribution is a __histogram__, which is a graph that shows the frequency of each value. Let's visualise the histogram for the age of the male and female populations in our example:"
   ]
  },
  {
   "cell_type": "code",
   "execution_count": 20,
   "metadata": {},
   "outputs": [],
   "source": [
    "import matplotlib.pyplot as plt\n",
    "%matplotlib inline"
   ]
  },
  {
   "cell_type": "code",
   "execution_count": 21,
   "metadata": {},
   "outputs": [
    {
     "data": {
      "image/png": "[encoded data removed]",
      "text/plain": [
       "<Figure size 432x288 with 1 Axes>"
      ]
     },
     "metadata": {
      "needs_background": "light"
     },
     "output_type": "display_data"
    }
   ],
   "source": [
    "ml_age=male['age']\n",
    "ml_age.hist(density=False, histtype='stepfilled', bins=20)\n",
    "plt.xlabel('Age', fontsize=15)\n",
    "plt.ylabel('Male samples', fontsize=15)\n",
    "plt.show();"
   ]
  },
  {
   "cell_type": "code",
   "execution_count": 22,
   "metadata": {},
   "outputs": [
    {
     "data": {
      "image/png": "[encoded data removed]",
      "text/plain": [
       "<Figure size 432x288 with 1 Axes>"
      ]
     },
     "metadata": {
      "needs_background": "light"
     },
     "output_type": "display_data"
    }
   ],
   "source": [
    "fm_age=female['age']\n",
    "fm_age.hist(density=False, histtype='stepfilled', bins=10)\n",
    "plt.xlabel('Age', fontsize=15)\n",
    "plt.ylabel('Female samples', fontsize=15)\n",
    "plt.show();"
   ]
  },
  {
   "cell_type": "markdown",
   "metadata": {},
   "source": [
    "Let's compare both populations by overlaying the distributions:"
   ]
  },
  {
   "cell_type": "code",
   "execution_count": 23,
   "metadata": {},
   "outputs": [
    {
     "data": {
      "image/png": "[encoded data removed]",
      "text/plain": [
       "<Figure size 432x288 with 1 Axes>"
      ]
     },
     "metadata": {
      "needs_background": "light"
     },
     "output_type": "display_data"
    }
   ],
   "source": [
    "import seaborn as sns\n",
    "ml_age.hist(density=False, histtype='stepfilled', alpha=.5, color=sns.desaturate('indianred', .75), bins=10)\n",
    "fm_age.hist(density=False, histtype='stepfilled', bins=20)\n",
    "plt.xlabel('Age', fontsize=15)\n",
    "plt.ylabel('Samples', fontsize=15)\n",
    "plt.legend(('Male','Female'))\n",
    "plt.show();"
   ]
  },
  {
   "cell_type": "code",
   "execution_count": 24,
   "metadata": {},
   "outputs": [
    {
     "data": {
      "image/png": "[encoded data removed]",
      "text/plain": [
       "<Figure size 432x288 with 1 Axes>"
      ]
     },
     "metadata": {
      "needs_background": "light"
     },
     "output_type": "display_data"
    }
   ],
   "source": [
    "ml_age.hist(density=True, histtype='stepfilled', alpha=.5, color=sns.desaturate('indianred', .75), bins=10)\n",
    "fm_age.hist(density=True, histtype='stepfilled', alpha=.5, bins=20)\n",
    "plt.xlabel('Age', fontsize=15)\n",
    "plt.ylabel('PMF', fontsize=15)\n",
    "plt.legend(('Male','Female'))\n",
    "plt.show();"
   ]
  },
  {
   "cell_type": "markdown",
   "metadata": {},
   "source": [
    "## 2.3 Distribution Functions\n",
    "Summarizing can be dangerious: very different data can be described by the same summary statistics. It must be validated by inspecting the data. We can look at the __data distribution__, which describes how often (frequency) each value appears. \n",
    "\n",
    "We can normalize the frequencies of the histogram by dividing/normalizing $n$, the number of samples. The normalized histogram is called __Probability Mass Function__ (PMF).\n",
    "\n",
    "Let's visualise and compare the PMF of male and female age in our example:"
   ]
  },
  {
   "cell_type": "code",
   "execution_count": 25,
   "metadata": {},
   "outputs": [],
   "source": [
    "import scipy.stats as stats"
   ]
  },
  {
   "cell_type": "code",
   "execution_count": 26,
   "metadata": {},
   "outputs": [
    {
     "data": {
      "image/png": "[encoded data removed]",
      "text/plain": [
       "<Figure size 432x288 with 1 Axes>"
      ]
     },
     "metadata": {
      "needs_background": "light"
     },
     "output_type": "display_data"
    }
   ],
   "source": [
    "ml_age.hist(density=True, histtype='stepfilled', bins=20, color=sns.desaturate('indianred', .75))\n",
    "plt.xlabel('Age', fontsize=15)\n",
    "plt.ylabel('Probability', fontsize=15)\n",
    "plt.show();"
   ]
  },
  {
   "cell_type": "code",
   "execution_count": 27,
   "metadata": {},
   "outputs": [
    {
     "data": {
      "image/png": "[encoded data removed]",
      "text/plain": [
       "<Figure size 432x288 with 1 Axes>"
      ]
     },
     "metadata": {
      "needs_background": "light"
     },
     "output_type": "display_data"
    }
   ],
   "source": [
    "fm_age.hist(density=True, histtype='stepfilled', bins=20)\n",
    "plt.xlabel('Age', fontsize=15)\n",
    "plt.ylabel('Probability', fontsize=15)\n",
    "plt.show();"
   ]
  },
  {
   "cell_type": "markdown",
   "metadata": {},
   "source": [
    "The __cumulative distribution function__ (CDF), or just distribution function, describes the probability that a real-valued random variable $X$ with a given probablity distribution will be found to habe a value less than or equal to $x$. For our example, the CDFs will be:"
   ]
  },
  {
   "cell_type": "code",
   "execution_count": 28,
   "metadata": {},
   "outputs": [
    {
     "data": {
      "image/png": "[encoded data removed]",
      "text/plain": [
       "<Figure size 432x288 with 1 Axes>"
      ]
     },
     "metadata": {
      "needs_background": "light"
     },
     "output_type": "display_data"
    }
   ],
   "source": [
    "ml_age.hist(density=True, histtype='step', cumulative=True, linewidth=3.5, bins=20, color=sns.desaturate('indianred', .75))\n",
    "plt.xlabel('Age', fontsize=15)\n",
    "plt.ylabel('CDF', fontsize=15)\n",
    "plt.show();"
   ]
  },
  {
   "cell_type": "code",
   "execution_count": 29,
   "metadata": {},
   "outputs": [
    {
     "data": {
      "image/png": "[encoded data removed]",
      "text/plain": [
       "<Figure size 432x288 with 1 Axes>"
      ]
     },
     "metadata": {
      "needs_background": "light"
     },
     "output_type": "display_data"
    }
   ],
   "source": [
    "fm_age.hist(density=True, histtype='step', cumulative=True, linewidth=3.5, bins=20)\n",
    "plt.xlabel('Age', fontsize=15)\n",
    "plt.ylabel('CDF', fontsize=15)\n",
    "plt.show();"
   ]
  },
  {
   "cell_type": "code",
   "execution_count": 30,
   "metadata": {},
   "outputs": [
    {
     "data": {
      "image/png": "[encoded data removed]",
      "text/plain": [
       "<Figure size 432x288 with 1 Axes>"
      ]
     },
     "metadata": {
      "needs_background": "light"
     },
     "output_type": "display_data"
    }
   ],
   "source": [
    "fm_age.hist(density=True, histtype='step', cumulative=True, linewidth=3.5, bins=20)\n",
    "ml_age.hist(density=True, histtype='step', cumulative=True, linewidth=3.5, bins=20, color=sns.desaturate('indianred', .75))\n",
    "plt.xlabel('Age', fontsize=15)\n",
    "plt.ylabel('CDF', fontsize=15)\n",
    "plt.legend(('Female', 'Male'), loc='lower center')\n",
    "plt.show();"
   ]
  },
  {
   "cell_type": "code",
   "execution_count": 31,
   "metadata": {},
   "outputs": [
    {
     "name": "stdout",
     "output_type": "stream",
     "text": [
      "The mean sample difference is 2.5753\n"
     ]
    }
   ],
   "source": [
    "import numpy as np\n",
    "print('The mean sample difference is', np.round(ml_age.mean()-fm_age.mean(), 4))"
   ]
  },
  {
   "cell_type": "markdown",
   "metadata": {},
   "source": [
    "## 2.4 Outliers\n",
    "Outliers are data points with a value that is far from the central tendency.\n",
    "We can find outliers by:\n",
    "* Computing samples that are _far_ from the median. Any observations that are more than 1.5 x IQR below $Q_1$ or more than 1.5 x IQR above $Q_3$ are considered outliers.\n",
    "* Comptuing samples whose value _exceeds the mean_ by 2 or 3 standard deviations.\n",
    "\n",
    "(I am not entirely sure how the original authors derived 15 below the median or 35 above the median as their critical cut-off, since it doesn't strictly correspond to any of these 2 rules.) "
   ]
  },
  {
   "cell_type": "code",
   "execution_count": 32,
   "metadata": {},
   "outputs": [
    {
     "data": {
      "text/plain": [
       "count    32561.000000\n",
       "mean        38.581647\n",
       "std         13.640433\n",
       "min         17.000000\n",
       "25%         28.000000\n",
       "50%         37.000000\n",
       "75%         48.000000\n",
       "max         90.000000\n",
       "Name: age, dtype: float64"
      ]
     },
     "execution_count": 32,
     "metadata": {},
     "output_type": "execute_result"
    }
   ],
   "source": [
    "df['age'].describe()"
   ]
  },
  {
   "cell_type": "code",
   "execution_count": 33,
   "metadata": {},
   "outputs": [
    {
     "data": {
      "text/plain": [
       "5"
      ]
     },
     "execution_count": 33,
     "metadata": {},
     "output_type": "execute_result"
    }
   ],
   "source": [
    "len(df[(df.income == '>50K\\n') & (df['age'] < df['age'].median() - 15)])"
   ]
  },
  {
   "cell_type": "code",
   "execution_count": 34,
   "metadata": {},
   "outputs": [
    {
     "data": {
      "text/plain": [
       "69"
      ]
     },
     "execution_count": 34,
     "metadata": {},
     "output_type": "execute_result"
    }
   ],
   "source": [
    "len(df[(df.income == '>50K\\n') & (df['age'] > df['age'].median() + 35)])"
   ]
  },
  {
   "cell_type": "markdown",
   "metadata": {},
   "source": [
    "If we think that outliers correpsond to errors, an option is to trim the data by removing the highest and lowest values."
   ]
  },
  {
   "cell_type": "code",
   "execution_count": 35,
   "metadata": {},
   "outputs": [
    {
     "name": "stdout",
     "output_type": "stream",
     "text": [
      "(32561, 15)\n",
      "(32492, 15)\n"
     ]
    }
   ],
   "source": [
    "df2 = df.drop(df.index[(df.income=='>50K\\n') & (df['age']>df['age'].median()+35) & (df['age']>df['age'].median()-15)])\n",
    "print(df.shape)\n",
    "print(df2.shape)"
   ]
  },
  {
   "cell_type": "code",
   "execution_count": 39,
   "metadata": {},
   "outputs": [],
   "source": [
    "male_50k_age = male_50k['age']\n",
    "female_50k_age = female_50k['age']\n",
    "\n",
    "male_50k_age2 = male_50k_age.drop(male_50k_age.index[(male_50k_age>df['age'].median()+35)&(male_50k_age>df['age'].median()-15)])\n",
    "female_50k_age2 = female_50k_age.drop(female_50k_age.index[(female_50k_age>df['age'].median()+35)&(female_50k_age>df['age'].median()-15)])"
   ]
  },
  {
   "cell_type": "code",
   "execution_count": 37,
   "metadata": {},
   "outputs": [
    {
     "name": "stdout",
     "output_type": "stream",
     "text": [
      "Men statistics: Mean: 41.877028181041844 Std: 10.036441807343707 Median 41.0 Min: 19 Max: 72\n"
     ]
    }
   ],
   "source": [
    "mu2ml = male_50k_age2.mean()\n",
    "std2ml = male_50k_age2.std()\n",
    "md2ml = male_50k_age2.median()\n",
    "print('Men statistics: Mean:', mu2ml,'Std:',std2ml,'Median',md2ml,'Min:',male_50k_age2.min(),'Max:',male_50k_age2.max())"
   ]
  },
  {
   "cell_type": "code",
   "execution_count": 40,
   "metadata": {},
   "outputs": [
    {
     "name": "stdout",
     "output_type": "stream",
     "text": [
      "Women statistics: Mean: 41.877028181041844 Std: 10.036441807343707 Median 41.0 Min: 19 Max: 72\n"
     ]
    }
   ],
   "source": [
    "mu2fm = female_50k_age2.mean()\n",
    "std2fm = female_50k_age2.std()\n",
    "md2fm = female_50k_age2.median()\n",
    "print('Women statistics: Mean:', mu2fm,'Std:',std2fm,'Median',md2fm,'Min:',female_50k_age2.min(),'Max:',female_50k_age2.max())"
   ]
  },
  {
   "cell_type": "code",
   "execution_count": 41,
   "metadata": {},
   "outputs": [
    {
     "name": "stdout",
     "output_type": "stream",
     "text": [
      "Mean difference with outliers is 2.58\n",
      "Mean difference without outliers is 2.44\n"
     ]
    }
   ],
   "source": [
    "print('Mean difference with outliers is', np.round((ml_age.mean()-fm_age.mean()),2))\n",
    "print('Mean difference without outliers is', np.round((male_50k_age2.mean()-female_50k_age2.mean()),2))"
   ]
  },
  {
   "cell_type": "markdown",
   "metadata": {},
   "source": [
    "Let's compare visually the age distribution before and after removing the outliers."
   ]
  },
  {
   "cell_type": "code",
   "execution_count": 42,
   "metadata": {},
   "outputs": [
    {
     "data": {
      "image/png": "[encoded data removed]",
      "text/plain": [
       "<Figure size 1008x360 with 1 Axes>"
      ]
     },
     "metadata": {
      "needs_background": "light"
     },
     "output_type": "display_data"
    }
   ],
   "source": [
    "plt.figure(figsize=(14,5))\n",
    "df.age[(df.income=='>50K\\n')].plot(alpha=.3,color='tab:blue')\n",
    "df2.age[(df2.income=='>50K\\n')].plot(alpha=.45,color='tab:red')\n",
    "plt.ylabel('Age')\n",
    "plt.xlabel('Samples')\n",
    "plt.show();"
   ]
  },
  {
   "cell_type": "code",
   "execution_count": 43,
   "metadata": {},
   "outputs": [],
   "source": [
    "import numpy as np\n",
    "\n",
    "countx,divisionx = np.histogram(male_50k_age2, density=True)\n",
    "county,divisiony = np.histogram(female_50k_age2, density=True)"
   ]
  },
  {
   "cell_type": "code",
   "execution_count": 44,
   "metadata": {},
   "outputs": [
    {
     "data": {
      "image/png": "[encoded data removed]",
      "text/plain": [
       "<Figure size 432x288 with 1 Axes>"
      ]
     },
     "metadata": {
      "needs_background": "light"
     },
     "output_type": "display_data"
    }
   ],
   "source": [
    "import matplotlib.pyplot as plt\n",
    "%matplotlib inline\n",
    "\n",
    "val = [(divisionx[i]+divisiony[i+1])/2 for i in range (len(divisionx)-1)]\n",
    "plt.plot(val,countx-county, 'o-')\n",
    "plt.title('Difference in promoting men vs women')\n",
    "plt.xlabel('Age')\n",
    "plt.ylabel('Difference')\n",
    "plt.show();"
   ]
  },
  {
   "cell_type": "markdown",
   "metadata": {},
   "source": [
    "We can also compare and visualise the difference of being promoted to high-income between the share of men vs women by age. As can be seen above, women are more likely to be promoted before the age of 40-something, while men are more likely to be promoted after their early 40s.\n",
    "\n",
    "## 2.5 Measuring asymmetry or skewness\n",
    "__Skewness__ is a statistic that measures the asymmertry of a set of $n$ data samples $x_i$.\n",
    "\n",
    "The numerator is the mean squared deviation (or variance) and the denominator the mean cubed deviation.\n",
    "\n",
    "Negative deviation indicates that the distribution \"skews left\" (it extends farther to the left than to the right).\n",
    "\n",
    "$g_1 = \\frac{\\frac{1}{n} \\sum_i (x_i - \\mu)^2 }{\\frac{1}{n} \\sum_i (x_i - \\mu)^3 } $"
   ]
  },
  {
   "cell_type": "code",
   "execution_count": 45,
   "metadata": {},
   "outputs": [],
   "source": [
    "def skewness(x):\n",
    "    res=0\n",
    "    m=x.mean()\n",
    "    s=x.std()\n",
    "    for i in x:\n",
    "        res+=(i-m)*(i-m)*(i-m)\n",
    "    res/=(len(x)*s*s*s)\n",
    "    return res"
   ]
  },
  {
   "cell_type": "code",
   "execution_count": 46,
   "metadata": {},
   "outputs": [
    {
     "name": "stdout",
     "output_type": "stream",
     "text": [
      "The skewness of male population is 0.26644438384328223\n",
      "The skewness of female population is 0.3863335249128606\n"
     ]
    }
   ],
   "source": [
    "print('The skewness of male population is', skewness(male_50k_age2))\n",
    "print('The skewness of female population is', skewness(female_50k_age2))"
   ]
  },
  {
   "cell_type": "markdown",
   "metadata": {},
   "source": [
    "__Pearson's Median Skewness Coefficient__ is more robust alternative:\n",
    "\n",
    "$g_p = \\frac{3(\\mu - \\tilde{x})}{\\sigma}$\n",
    "\n",
    "where $\\tilde{x}$ is the median."
   ]
  },
  {
   "cell_type": "code",
   "execution_count": 47,
   "metadata": {},
   "outputs": [],
   "source": [
    "def pearson_skew(x):\n",
    "    g = 3*(x.mean()-x.median())/x.std()\n",
    "    return g"
   ]
  },
  {
   "cell_type": "code",
   "execution_count": 48,
   "metadata": {},
   "outputs": [
    {
     "name": "stdout",
     "output_type": "stream",
     "text": [
      "The Pearson median skewness of male population is 0.09520660549016392\n",
      "The Pearson median skewness of female population is 0.2621531209596967\n"
     ]
    }
   ],
   "source": [
    "print('The Pearson median skewness of male population is', pearson_skew(male_50k_age2))\n",
    "print('The Pearson median skewness of female population is', pearson_skew(female_50k_age2))"
   ]
  },
  {
   "cell_type": "markdown",
   "metadata": {},
   "source": [
    "## 2.6 Relative Risk\n",
    "Let's say that a person is \"early\" promoted if he/she is promoted before the age of 41, \"on time\" if he/she is promoted of age 41, 42, 43 or 44, and \"late\" promoted if he/she is ascended to get income bigger than 50K after being 44 years old.\n",
    "\n",
    "Let's compute the probability of being early, on time and late promoted for men and women:"
   ]
  },
  {
   "cell_type": "code",
   "execution_count": 49,
   "metadata": {},
   "outputs": [
    {
     "name": "stdout",
     "output_type": "stream",
     "text": [
      "(6601,) (1171,)\n"
     ]
    }
   ],
   "source": [
    "print(male_50k_age2.shape, female_50k_age2.shape)"
   ]
  },
  {
   "cell_type": "code",
   "execution_count": 50,
   "metadata": {},
   "outputs": [
    {
     "name": "stdout",
     "output_type": "stream",
     "text": [
      "Men grouped in 3 categories\n",
      "Young: 38 %.\n",
      "Elder: 48 %.\n",
      "Average: 14 %.\n"
     ]
    }
   ],
   "source": [
    "print('Men grouped in 3 categories')\n",
    "print('Young:', int(round(100*len(male_50k_age2[male_50k_age2<41])/float(len(male_50k_age2.index)))),'%.')\n",
    "print('Elder:', int(round(100*len(male_50k_age2[male_50k_age2>44])/float(len(male_50k_age2.index)))),'%.')\n",
    "print('Average:', int(round(100*len(male_50k_age2[(male_50k_age2>40)&(male_50k_age<45)])/float(len(male_50k_age2.index)))),'%.')"
   ]
  },
  {
   "cell_type": "code",
   "execution_count": 51,
   "metadata": {},
   "outputs": [
    {
     "name": "stdout",
     "output_type": "stream",
     "text": [
      "Women grouped in 3 categories\n",
      "Young: 48 %.\n",
      "Elder: 37 %.\n",
      "Average: 15 %.\n"
     ]
    }
   ],
   "source": [
    "print('Women grouped in 3 categories')\n",
    "print('Young:', int(round(100*len(female_50k_age2[female_50k_age2<41])/float(len(female_50k_age2.index)))),'%.')\n",
    "print('Elder:', int(round(100*len(female_50k_age2[female_50k_age2>44])/float(len(female_50k_age2.index)))),'%.')\n",
    "print('Average:', int(round(100*len(female_50k_age2[(female_50k_age2>40)&(female_50k_age<45)])/float(len(female_50k_age2.index)))),'%.')"
   ]
  },
  {
   "cell_type": "markdown",
   "metadata": {},
   "source": [
    "The relative risk is the ratio of two probabilities. In order to get the relative risk of early promotion, we need to consider the fraction of both probabilities."
   ]
  },
  {
   "cell_type": "code",
   "execution_count": 52,
   "metadata": {},
   "outputs": [
    {
     "name": "stdout",
     "output_type": "stream",
     "text": [
      "Male mean: 44.317982123920615\n",
      "Female mean: 41.877028181041844\n"
     ]
    }
   ],
   "source": [
    "print('Male mean:', male_50k_age2.mean())\n",
    "print('Female mean:', female_50k_age2.mean())"
   ]
  },
  {
   "cell_type": "code",
   "execution_count": 53,
   "metadata": {},
   "outputs": [
    {
     "name": "stdout",
     "output_type": "stream",
     "text": [
      "The relative risk of female early promotion is 21.125440082163816\n"
     ]
    }
   ],
   "source": [
    "ml_young = len(male_50k_age2[(male_50k_age2<41)])/float(len(male_50k_age2.index)) # pecentage of men under 41 from all high-income men\n",
    "fm_young = len(female_50k_age2[(female_50k_age2<41)])/float(len(female_50k_age2.index)) # pecentage of women under 41 from all high-income women\n",
    "print('The relative risk of female early promotion is', 100*(1-ml_young/fm_young))"
   ]
  },
  {
   "cell_type": "markdown",
   "metadata": {},
   "source": [
    "This means that women are 21% more likely to get promoted before 41 years than men."
   ]
  },
  {
   "cell_type": "code",
   "execution_count": 54,
   "metadata": {},
   "outputs": [
    {
     "name": "stdout",
     "output_type": "stream",
     "text": [
      "The relative risk male late promotion is 28.971570897124195\n"
     ]
    }
   ],
   "source": [
    "ml_elder = len(male_50k_age2[(male_50k_age2>44)])/float(len(male_50k_age2.index))\n",
    "fm_elder = len(female_50k_age2[(female_50k_age2>44)])/float(len(female_50k_age2.index))\n",
    "print('The relative risk male late promotion is', (100*ml_elder/fm_elder)-100)"
   ]
  },
  {
   "cell_type": "markdown",
   "metadata": {},
   "source": [
    "This mean that men are 29% more likely to get promoted after 44 years than women."
   ]
  },
  {
   "cell_type": "markdown",
   "metadata": {},
   "source": [
    "__Summary__\n",
    "* _Data Description:_ The mean age for ascending male professionals is 44 years old, while for female profressionals it is 41 years.\n",
    "* _Relative Risk:_ Female professionals are 21% more likely to be promoted before 41 years of age, while men are 29% more likely to be promoted at least 45 years old.\n",
    "\n",
    "## 3. Continuous Distributions\n",
    "So far, we have built __empirical dsitributions__ (which represent the distribution of values in a sample), based on observations, but many real problems are well approximated by fitting __continuous distribution functions__ (CDFs).\n",
    "\n",
    "## 3.1 The Exponential Distribution\n",
    "\n",
    "The CDF of the exponential distribution is:\n",
    "\n",
    "$CDF(x) = 1-\\exp$ <sup>-$\\lambda x$</sup>\n",
    "\n",
    "And it PDF is:\n",
    "\n",
    "$PDF(x) = \\lambda \\exp$ <sup>-$\\lambda x$</sup>\n",
    "\n",
    "The parameter $\\lambda$ determines the shape of the distribution, the mean of the distribution is $\\frac{1}{\\lambda}$ and its variance is $\\frac{1}{\\lambda^2}$. The median is $\\frac{ln(2)}{\\lambda}$ "
   ]
  },
  {
   "cell_type": "code",
   "execution_count": 55,
   "metadata": {},
   "outputs": [
    {
     "data": {
      "image/png": "[encoded data removed]",
      "text/plain": [
       "<Figure size 432x288 with 1 Axes>"
      ]
     },
     "metadata": {
      "needs_background": "light"
     },
     "output_type": "display_data"
    }
   ],
   "source": [
    "l = 3\n",
    "x = np.arange(0,2.5,0.1)\n",
    "y = 1 - np.exp(-l*x)\n",
    "plt.plot(x,y,color='b')\n",
    "plt.title('Exponential CDF: $\\lambda$ =%.2f' %l, fontsize=15)\n",
    "plt.xlabel('X')\n",
    "plt.ylabel('CDF')\n",
    "plt.show();"
   ]
  },
  {
   "cell_type": "code",
   "execution_count": 56,
   "metadata": {},
   "outputs": [
    {
     "data": {
      "image/png": "[encoded data removed]",
      "text/plain": [
       "<Figure size 432x288 with 1 Axes>"
      ]
     },
     "metadata": {
      "needs_background": "light"
     },
     "output_type": "display_data"
    }
   ],
   "source": [
    "l = 3\n",
    "x = np.arange(0,2.5,0.1)\n",
    "y = 1 * np.exp(-l*x)\n",
    "plt.plot(x,y,color='r')\n",
    "plt.title('Exponential PDF: $\\lambda$ =%.2f' %l, fontsize=15)\n",
    "plt.xlabel('X')\n",
    "plt.ylabel('PDF')\n",
    "plt.show();"
   ]
  },
  {
   "cell_type": "markdown",
   "metadata": {},
   "source": [
    "There are a lot of real world events that can be described with this distribution.\n",
    "* The time until a radioactive particle decays,\n",
    "* The time it takes before your next telephone call,\n",
    "* The time until default (on payment to company debt holders) in reduced form credit risk modeling.\n",
    "\n",
    "The random variable $X$ of the lifelength of some batteries is associated with probability density function of the form:\n",
    "\n",
    "$PDF(x) = \\frac{1}{4} \\exp$ <sup>$-\\frac{x}{4}$</sup>"
   ]
  },
  {
   "cell_type": "code",
   "execution_count": 57,
   "metadata": {},
   "outputs": [
    {
     "data": {
      "image/png": "[encoded data removed]",
      "text/plain": [
       "<Figure size 432x288 with 1 Axes>"
      ]
     },
     "metadata": {
      "needs_background": "light"
     },
     "output_type": "display_data"
    }
   ],
   "source": [
    "l = 0.25\n",
    "x = np.arange(0,25,0.1)\n",
    "y = 1 * np.exp(-l*x)\n",
    "plt.plot(x,y,color='c')\n",
    "plt.title('Exponential PDF: $\\lambda$ =%.2f' %l, fontsize=15)\n",
    "plt.xlabel('X')\n",
    "plt.ylabel('PDF')\n",
    "plt.show();"
   ]
  },
  {
   "cell_type": "markdown",
   "metadata": {},
   "source": [
    "## 3.2 Normal Distribution\n",
    "\n",
    "The __normal__ or __Gaussian distribution__ is the most used one because it describes a lot of phenomena in the real world and because it is amenable for analysis.\n",
    "\n",
    "Its CDF has no closed-form expression and its common representation is the PDF:\n",
    "\n",
    "$PDF(x) = \\frac{1}{\\sqrt{2 \\pi \\sigma^2}}\\exp(-\\frac{(x-\\mu)^2}{2\\sigma^2})$"
   ]
  },
  {
   "cell_type": "code",
   "execution_count": 58,
   "metadata": {},
   "outputs": [
    {
     "data": {
      "image/png": "[encoded data removed]",
      "text/plain": [
       "<Figure size 432x288 with 1 Axes>"
      ]
     },
     "metadata": {
      "needs_background": "light"
     },
     "output_type": "display_data"
    }
   ],
   "source": [
    "# normal or Gaussian distribution\n",
    "u = 6 # mean\n",
    "s = 2 # standard deviation\n",
    "x = np.arange(0,12,0.1)\n",
    "y = (1/(np.sqrt(2*np.pi*s*s)))*np.exp(-(((x-u)**2)/(2*s*s)))\n",
    "plt.plot(x,y,color='m')\n",
    "plt.title('Gaussian PDF: $\\mu$=%.1f, $\\sigma$=%.1f' %(u,s), fontsize=15)\n",
    "plt.xlabel('X')\n",
    "plt.ylabel('Probability Density')\n",
    "plt.show();"
   ]
  },
  {
   "cell_type": "markdown",
   "metadata": {},
   "source": [
    "## 3.3 Central Limit Theorem\n",
    "\n",
    "The normal distribution is also important, because it is involved in the Central Limit Theorem:\n",
    "\n",
    "Take the mean of $n$ random samples from ANY arbitrary distribution with a _well defined_ standard deviation $\\sigma$ and mean $\\mu$. As $n$ gets bigger the distribution of the sample mean will always converge to a Gaussian (normal) distribution with mean $\\mu$ and standard deviation $\\frac{\\sigma}{\\sqrt{n}}$.\n",
    "\n",
    "Colloquially speaking, the theorem states the distribution of an average tends to be normal, even when the distribution from which the average is computed is decidedly non-normal. This explains the ubiquity of the Gaussian distribution in science and statistics.\n",
    "\n",
    "__Uniform Distribution__\n",
    "\n",
    "The uniform distribution is _non-normal_. Let's call it the _parent distribution_.\n",
    "\n",
    "To compute an average, two samples are drawn ($n=2$), at random, from the parent distribution and averaged. Then another sample of two ($n=2$) is drawn and another value of the average computed. This process is repeated, over and over, and averages of two are computed.\n",
    "\n",
    "Repeatedly taking more elements ($n = 3,4,...$) from the parent distribution, and computing the averages, produces a normal probability density."
   ]
  },
  {
   "cell_type": "code",
   "execution_count": 59,
   "metadata": {},
   "outputs": [
    {
     "data": {
      "image/png": "[encoded data removed]",
      "text/plain": [
       "<Figure size 1152x360 with 5 Axes>"
      ]
     },
     "metadata": {
      "needs_background": "light"
     },
     "output_type": "display_data"
    }
   ],
   "source": [
    "fig, ax = plt.subplots(1, 5, sharey=True, squeeze=True, figsize=(16,5))\n",
    "x = np.linspace(0,1,100)\n",
    "for i in range(5):\n",
    "    f = np.mean(np.random.random((10000, i+1)), 1)\n",
    "    m, s, = np.mean(f), np.std(f, ddof=1)\n",
    "    fn = (1/(s*np.sqrt(2*np.pi)))*np.exp(-(x-m)**2/(2*s**2))\n",
    "    ax[i].hist(f, 40, density=True, color=[0,0.2,0.8,0.6])\n",
    "    ax[i].set_title('n=%d' %(i+1))\n",
    "    ax[i].plot(x, fn, color=[1,0,0,0.6], linewidth=5)\n",
    "plt.suptitle('Demonstration of central limit theorem for uniform distribution', y=1.05, fontsize=15)\n",
    "plt.show();"
   ]
  },
  {
   "cell_type": "markdown",
   "metadata": {},
   "source": [
    "## 3.4 Kernel Density Estimates\n",
    "In some instances, we may not be interested in the parameters of a particular distribution of data, but just a __continuous representation__ of the data at hand. In this case, we can estimate the distribution non-parametrically (i.e. making no assumptions about the form of the underlying distribution) using kernel density estimation."
   ]
  },
  {
   "cell_type": "code",
   "execution_count": 60,
   "metadata": {},
   "outputs": [
    {
     "data": {
      "image/png": "[encoded data removed]",
      "text/plain": [
       "<Figure size 432x288 with 1 Axes>"
      ]
     },
     "metadata": {
      "needs_background": "light"
     },
     "output_type": "display_data"
    }
   ],
   "source": [
    "from scipy.stats.distributions import norm\n",
    "\n",
    "x1 = np.random.normal(-1,2,15)\n",
    "x2 = np.random.normal(6,3,10)\n",
    "y = np.r_[x1,x2]\n",
    "x = np.linspace(min(y),max(y),100)\n",
    "\n",
    "s = 0.4 # smoothing\n",
    "\n",
    "kernels = np.transpose([norm.pdf(x, yi, s) for yi in y])\n",
    "\n",
    "plt.plot(x, kernels, 'k:')\n",
    "plt.plot(x, kernels.sum(1), 'r')\n",
    "plt.plot(y, np.zeros(len(y)), 'go', ms=10);"
   ]
  },
  {
   "cell_type": "code",
   "execution_count": 61,
   "metadata": {},
   "outputs": [
    {
     "data": {
      "image/png": "[encoded data removed]",
      "text/plain": [
       "<Figure size 432x288 with 1 Axes>"
      ]
     },
     "metadata": {
      "needs_background": "light"
     },
     "output_type": "display_data"
    }
   ],
   "source": [
    "from scipy.stats import kde\n",
    "\n",
    "x1 = np.random.normal(-1,0.5,15)\n",
    "x2 = np.random.normal(6,1,10)\n",
    "y = np.r_[x1,x2]\n",
    "x = np.linspace(min(y),max(y),100)\n",
    "s=0.4\n",
    "\n",
    "kernels = np.transpose([norm.pdf(x, yi, s) for yi in y])\n",
    "density = kde.gaussian_kde(y)\n",
    "\n",
    "plt.plot(x, kernels, 'k:')\n",
    "plt.plot(x, kernels.sum(1), 'r')\n",
    "plt.plot(y, np.zeros(len(y)), 'bo', ms=10);"
   ]
  },
  {
   "cell_type": "code",
   "execution_count": 62,
   "metadata": {},
   "outputs": [
    {
     "data": {
      "image/png": "[encoded data removed]",
      "text/plain": [
       "<Figure size 432x288 with 1 Axes>"
      ]
     },
     "metadata": {
      "needs_background": "light"
     },
     "output_type": "display_data"
    }
   ],
   "source": [
    "xgrid = np.linspace(x.min(), x.max(), 200)\n",
    "plt.hist(y, bins=28, density=True)\n",
    "plt.plot(xgrid, density(xgrid), 'r-');"
   ]
  },
  {
   "cell_type": "markdown",
   "metadata": {},
   "source": [
    "SciPy implements a Gaussian KDE that automatically chooses an appropriate bandwidth. Let's create a distribution of data that is not easily summarized by a parametric distribution:"
   ]
  },
  {
   "cell_type": "code",
   "execution_count": 63,
   "metadata": {},
   "outputs": [
    {
     "data": {
      "image/png": "[encoded data removed]",
      "text/plain": [
       "<Figure size 432x288 with 1 Axes>"
      ]
     },
     "metadata": {
      "needs_background": "light"
     },
     "output_type": "display_data"
    }
   ],
   "source": [
    "x1 = np.random.normal(-1,2,15)\n",
    "x2 = np.random.normal(6,3,10)\n",
    "\n",
    "x = np.r_[x1,x2]\n",
    "plt.hist(x, bins=18, density=True);"
   ]
  },
  {
   "cell_type": "code",
   "execution_count": 64,
   "metadata": {},
   "outputs": [
    {
     "data": {
      "image/png": "[encoded data removed]",
      "text/plain": [
       "<Figure size 432x288 with 1 Axes>"
      ]
     },
     "metadata": {
      "needs_background": "light"
     },
     "output_type": "display_data"
    }
   ],
   "source": [
    "density = kde.gaussian_kde(x)\n",
    "xgrid = np.linspace(x.min(),x.max(),200)\n",
    "plt.hist(x, bins=18, density=True)\n",
    "plt.plot(xgrid, density(xgrid), 'r-');"
   ]
  },
  {
   "cell_type": "markdown",
   "metadata": {},
   "source": [
    "## 4. Estimation\n",
    "Definition: Estimation is the process of inferring the parameters (e.g. mean) of a distribution from a statistic of samples drawn from a population.\n",
    "\n",
    "For example: What is the estimated mean $\\hat{\\mu}$ of the following normal data?\n",
    "We can use our definition of empirical mean."
   ]
  },
  {
   "cell_type": "code",
   "execution_count": 65,
   "metadata": {},
   "outputs": [
    {
     "data": {
      "image/png": "[encoded data removed]",
      "text/plain": [
       "<Figure size 432x288 with 1 Axes>"
      ]
     },
     "metadata": {
      "needs_background": "light"
     },
     "output_type": "display_data"
    }
   ],
   "source": [
    "x = np.random.normal(0.0,1.0,10000)\n",
    "a = plt.hist(x,50,density=True);"
   ]
  },
  {
   "cell_type": "code",
   "execution_count": 66,
   "metadata": {},
   "outputs": [
    {
     "name": "stdout",
     "output_type": "stream",
     "text": [
      "Empirical mean of the sample is -0.00016249642148813236\n"
     ]
    }
   ],
   "source": [
    "print('Empirical mean of the sample is', x.mean())"
   ]
  },
  {
   "cell_type": "markdown",
   "metadata": {},
   "source": [
    "## 4.1 Sample Mean\n",
    "* The process is called __estimation__ and the statistic we use __estimator__.\n",
    "* The median is also an estimator (more robust to outliers).\n",
    "* \"Is median better than sample mean?\" is a question with at least two different answers. We can use two different objectives to answer this question: the minimization of error or the maximization to get the right answer.\n",
    "* If there are no outliers, we can use the __sample mean__ to minimize __mean squared error__ (where $m$ is the number of times you play the estimation game, not the size of the sample!):\n",
    "\n",
    "$MSE = \\frac{1}{m} \\sum(\\hat{\\mu}-\\mu)^2$"
   ]
  },
  {
   "cell_type": "code",
   "execution_count": 67,
   "metadata": {},
   "outputs": [
    {
     "name": "stdout",
     "output_type": "stream",
     "text": [
      "MSE 0.0010790717743512396\n"
     ]
    }
   ],
   "source": [
    "NTs=200\n",
    "mu=0\n",
    "var=1\n",
    "err=0\n",
    "NPs=1000\n",
    "for i in range(NTs):\n",
    "    x = np.random.normal(mu, var, NPs)\n",
    "    err += (x.mean()-mu)**2\n",
    "print('MSE', err/NTs)"
   ]
  },
  {
   "cell_type": "markdown",
   "metadata": {},
   "source": [
    "## 4.2 Variance\n",
    "We can also estimate the variance with:\n",
    "\n",
    "$\\hat{\\sigma^2} = \\frac{1}{n} \\sum_i (x_i - \\mu)^2$\n",
    "\n",
    "This estimator works for large samples, but it is biased for small samples. For small samples use:\n",
    "\n",
    "$\\hat{\\sigma^2} = \\frac{1}{n-1} \\sum_i (x_i - \\mu)^2$\n",
    "\n",
    "## 4.3 Standard Scores\n",
    "$z_i = \\frac{x_i - \\mu}{\\sigma}$\n",
    "\n",
    "This measure is dimensionless and its distribution has a mean of 0 and variance of 1.  \n",
    "It inherits the \"shape\" of $X$: if it is normally distributed, so is $Z$. If $X$ is skewed, so is $Z$.\n",
    "\n",
    "## 4.3 Covariance\n",
    "Covariance is a measure of the tendency of two variables to vary togehter.\n",
    "\n",
    "If we have two series $X$ and $Y$ with $X=\\{x_i\\}$ and $Y=\\{y_i\\}$, and they vary together, their deviations $x_i - \\mu_X$ and $y_i - \\mu_Y$ tend to have the same sign.\n",
    "\n",
    "If we multiply them together, the product is positive, when the deviations have the same sign, and negative, when they have the opposite sign. So adding up the products gives a measure of the tendency to vary together.\n",
    "\n",
    "Covariance is the mean of the products:\n",
    "\n",
    "$Cov(X,Y) = \\frac{1}{n} \\sum^{n}_{i=1} (x_i - \\mu_x)*(y_i - \\mu_y)$,\n",
    "\n",
    "where n is the length of the two series.\n",
    "\n",
    "However, it is a measure that is difficult to interpret."
   ]
  },
  {
   "cell_type": "code",
   "execution_count": 70,
   "metadata": {},
   "outputs": [],
   "source": [
    "# covariance\n",
    "def Cov(X,Y):\n",
    "    def _get_dvis(V):\n",
    "        return [v - np.mean(V) for v in V]\n",
    "    dxis = _get_dvis(X)\n",
    "    dyis = _get_dvis(Y)\n",
    "    return np.sum([x * y for x, y in zip(dxis,dyis)])/len(X)"
   ]
  },
  {
   "cell_type": "code",
   "execution_count": 71,
   "metadata": {},
   "outputs": [
    {
     "name": "stdout",
     "output_type": "stream",
     "text": [
      "Cov(X,X) =18.89\n",
      "Var(X) =18.89\n",
      "Cov(X,Y) =0.18\n"
     ]
    }
   ],
   "source": [
    "X = [5, -1, 3.3, 2.7, 12.2]\n",
    "X = np.array(X)\n",
    "Y = [10, 12, 8, 9, 11]\n",
    "\n",
    "print('Cov(X,X) =%.2f' %Cov(X,X))\n",
    "print('Var(X) =%.2f' %np.var(X))\n",
    "print('Cov(X,Y) =%.2f' %Cov(X,Y))"
   ]
  },
  {
   "cell_type": "markdown",
   "metadata": {},
   "source": [
    "Let us create some examples of positive and negative correlations like those showing the relations of stock market with respect to the economic growth or the gasoline prices with respect to the world oil production:"
   ]
  },
  {
   "cell_type": "code",
   "execution_count": 73,
   "metadata": {},
   "outputs": [
    {
     "data": {
      "image/png": "[encoded data removed]",
      "text/plain": [
       "<Figure size 1440x432 with 1 Axes>"
      ]
     },
     "metadata": {
      "needs_background": "light"
     },
     "output_type": "display_data"
    }
   ],
   "source": [
    "# correlation?\n",
    "X=np.array([[1,9],[3, 2], [5,3],[5.5,4],[6,4],[6.5,4],[7,3.5],[7.5,3.8],[8,4],[8.5,4],[9,4.5],[9.5,7],[10,9],[10.5,11],[11,11.5],[11.5,12],[12,12],[12.5,12],[13,10]])\n",
    "plt.subplot(1,2,1)\n",
    "plt.scatter(X[:,0],X[:,1],color='tab:blue',s=120,linewidth=2,zorder=10)\n",
    "plt.xlabel('Economic Growth(T)')\n",
    "plt.ylabel('Stock Market Returns(T)')\n",
    "plt.gcf().set_size_inches((20,6));"
   ]
  },
  {
   "cell_type": "code",
   "execution_count": 74,
   "metadata": {},
   "outputs": [
    {
     "data": {
      "image/png": "[encoded data removed]",
      "text/plain": [
       "<Figure size 1440x432 with 1 Axes>"
      ]
     },
     "metadata": {
      "needs_background": "light"
     },
     "output_type": "display_data"
    }
   ],
   "source": [
    "X=np.array([[1,8],[2, 7],[3,6],[4,8],[5,8],[6,7],[7,7],[8,5],[9,5],[10,6],[11,4],[12,5],[13,3],[14,2],[15,2],[16,1]])\n",
    "plt.subplot(1,2,1)\n",
    "plt.scatter(X[:,0],X[:,1],color='tab:blue',s=120,linewidth=2,zorder=10)\n",
    "plt.xlabel('World Oil Production(T)')\n",
    "plt.ylabel('Gasoline Prices(T)')\n",
    "plt.gcf().set_size_inches((20,6));"
   ]
  },
  {
   "cell_type": "markdown",
   "metadata": {},
   "source": [
    "## 4.5 Pearson's Correlation\n",
    "Pearson's Correlation coefficient $\\rho$ is much easier to intepret and can be derived from the previous measures. The coefficient ranges between -1 and 1, expressing that two variables vary in opposite direction if the sign is negative, or vary together if the sign is positive. If $\\rho$ is close to 0, then there is no correlation, but if its absolute value is above 0.6, we speak of strong correlation.\n",
    "\n",
    "$\\rho(X, Y) = \\frac{1}{n} \\sum^{n}_{i=1} \\frac{(x_i - \\mu_x)}{\\sigma_x} \\frac{(y_i - \\mu_y)}{\\sigma_y}$\n",
    "\n",
    "It can be summarized as this:\n",
    "\n",
    "$r(X, Y) = \\frac{Cov(X, Y)}{\\sigma_X \\sigma_Y}$"
   ]
  },
  {
   "cell_type": "code",
   "execution_count": 75,
   "metadata": {},
   "outputs": [],
   "source": [
    "def Pearson_Corr(X,Y):\n",
    "    assert len(X)==len(Y)\n",
    "    return Cov(X,Y)/np.prod([np.std(V) for V in [X,Y]])"
   ]
  },
  {
   "cell_type": "code",
   "execution_count": 80,
   "metadata": {},
   "outputs": [
    {
     "name": "stdout",
     "output_type": "stream",
     "text": [
      "Pearson Correlation r(X,X)=0.67383\n"
     ]
    }
   ],
   "source": [
    "# corr econ growth\n",
    "X=np.array([[1,9],[3, 2], [5,3],[5.5,4],[6,4],[6.5,4],[7,3.5],[7.5,3.8],[8,4],[8.5,4],[9,4.5],[9.5,7],[10,9],[10.5,11],[11,11.5],[11.5,12],[12,12],[12.5,12],[13,10]])\n",
    "print('Pearson Correlation r(X,X)=%.5f'% Pearson_Corr(X[:,0],X[:,1]))"
   ]
  },
  {
   "cell_type": "code",
   "execution_count": 79,
   "metadata": {},
   "outputs": [
    {
     "name": "stdout",
     "output_type": "stream",
     "text": [
      "Pearson Correlation r(X,X)=-0.90915\n"
     ]
    }
   ],
   "source": [
    "# corr for oil\n",
    "X=np.array([[1,8],[2, 7],[3,6],[4,8],[5,8],[6,7],[7,7],[8,5],[9,5],[10,6],[11,4],[12,5],[13,3],[14,2],[15,2],[16,1]])\n",
    "print('Pearson Correlation r(X,X)=%.5f'% Pearson_Corr(X[:,0],X[:,1]))"
   ]
  },
  {
   "cell_type": "markdown",
   "metadata": {},
   "source": [
    "## 4.6 Spearman's Rank Correlation\n",
    "Pearson’s correlation works well if the relationship between variables is linear and if the variables are roughly normal. But it is not robust in the presence of outliers.\n",
    "\n",
    "Spearman’s rank correlation is an alternative that mitigates the effect of outliers and skewed distributions. To compute Spearman’s correlation, we have to compute the rank of each value, which is its index in the sorted sample.\n",
    "\n",
    "For example, in the sample {7, 1, 2, 5} the rank of the value 5 is 3, because it appears third if we sort the elements.\n",
    "\n",
    "Then, we compute __the Pearson’s correlation, but for the ranks__."
   ]
  },
  {
   "cell_type": "code",
   "execution_count": 81,
   "metadata": {},
   "outputs": [],
   "source": [
    "def list2rank(l):\n",
    "    # l is a list of numbers\n",
    "    # returns a list 1-based index; mean when multiple instances\n",
    "    return [np.mean([i+1 for i, sorted_el in enumerate(sorted(l)) if sorted_el == el]) for el in l]\n",
    "\n",
    "def spearmanRank(X,Y):\n",
    "    assert len(X)==len(Y)\n",
    "    print(list2rank(X))\n",
    "    print(list2rank(Y))\n",
    "    return Pearson_Corr(list2rank(X),list2rank(Y))"
   ]
  },
  {
   "cell_type": "code",
   "execution_count": 82,
   "metadata": {},
   "outputs": [
    {
     "name": "stdout",
     "output_type": "stream",
     "text": [
      "Pearson coefficient(X,Y)=0.28\n",
      "[1.0, 2.0, 3.0, 4.0, 5.0]\n",
      "[2.0, 1.0, 3.0, 5.0, 4.0]\n",
      "Spearman coefficient(X,Y)=0.80\n"
     ]
    },
    {
     "data": {
      "image/png": "[encoded data removed]",
      "text/plain": [
       "<Figure size 432x288 with 1 Axes>"
      ]
     },
     "metadata": {
      "needs_background": "light"
     },
     "output_type": "display_data"
    }
   ],
   "source": [
    "X = [10,20,30,40,1000]\n",
    "Y = [-70,-1000,-50,-10,-20]\n",
    "plt.plot(X,'ro')\n",
    "plt.plot(Y,'go');\n",
    "print('Pearson coefficient(X,Y)=%.2f'% Pearson_Corr(X,Y))\n",
    "print('Spearman coefficient(X,Y)=%.2f'% spearmanRank(X,Y))"
   ]
  },
  {
   "cell_type": "markdown",
   "metadata": {},
   "source": [
    "Obtain for the [Anscombe's quartet](https://en.wikipedia.org/wiki/Anscombe%27s_quartet) with the given dataset."
   ]
  },
  {
   "cell_type": "code",
   "execution_count": 102,
   "metadata": {},
   "outputs": [
    {
     "data": {
      "image/png": "[encoded data removed]",
      "text/plain": [
       "<Figure size 864x720 with 4 Axes>"
      ]
     },
     "metadata": {
      "needs_background": "light"
     },
     "output_type": "display_data"
    }
   ],
   "source": [
    "# Anscombe's Quartet\n",
    "X=np.array([[10.0, 8.04, 10.0, 9.14, 10.0, 7.46, 8.0, 6.58],\n",
    "[8.0, 6.95, 8.0, 8.14, 8.0, 6.77, 8.0, 5.76],\n",
    "[13.0,7.58,13.0,8.74,13.0,12.74,8.0,7.71],\n",
    "[9.0,8.81,9.0,8.77,9.0,7.11,8.0,8.84],\n",
    "[11.0,8.33,11.0,9.26,11.0,7.81,8.0,8.47],\n",
    "[14.0,9.96,14.0,8.10,14.0,8.84,8.0,7.04],\n",
    "[6.0,7.24,6.0,6.13,6.0,6.08,8.0,5.25],\n",
    "[4.0,4.26,4.0,3.10,4.0,5.39,19.0,12.50],\n",
    "[12.0,10.84,12.0,9.13,12.0,8.15,8.0,5.56],\n",
    "[7.0,4.82,7.0,7.26,7.0,6.42,8.0,7.91],\n",
    "[5.0,5.68,5.0,4.74,5.0,5.73,8.0,6.89]])\n",
    "XX = np.arange(0,20,0.1)\n",
    "plt.subplot(2,2,1)\n",
    "plt.scatter(X[:,0],X[:,1],color='r',s=120,linewidth=2)\n",
    "plt.plot(XX, (0.5* XX+3), '-b')\n",
    "plt.xlabel('$X_1$')\n",
    "plt.ylabel('$Y_1$')\n",
    "\n",
    "plt.subplot(2,2,2)\n",
    "plt.scatter(X[:,2],X[:,3],color='r',s=120,linewidth=2)\n",
    "plt.plot(XX, (0.5*XX+3), '-b')\n",
    "plt.xlabel('$X_2$')\n",
    "plt.ylabel('$Y_2$')\n",
    "\n",
    "plt.subplot(2,2,3)\n",
    "plt.scatter(X[:,4],X[:,5],color='r',s=120,linewidth=2)\n",
    "plt.plot(XX, (0.5* XX+3), '-b')\n",
    "plt.xlabel('$X_3$')\n",
    "plt.ylabel('$Y_3$')\n",
    "\n",
    "plt.subplot(2,2,4)\n",
    "plt.scatter(X[:,6],X[:,7],color='r',s=120,linewidth=2)\n",
    "plt.plot(XX, (0.5* XX+3), '-b')\n",
    "plt.xlabel('$X_4$')\n",
    "plt.ylabel('$Y_4$')\n",
    "plt.gcf().set_size_inches((12,10));"
   ]
  },
  {
   "cell_type": "markdown",
   "metadata": {},
   "source": [
    "__Sources__\n",
    "\n",
    "Igual, Laura, and Santi Seguí. \"Chapter 4: Statistical Inference.\" In _Introduction to Data Science_, pp. 29-50. Springer, 2017.\n",
    "\n",
    "Here is the link to the [original notebook](https://github.com/DataScienceUB/introduction-datascience-python-book/blob/master/ch03_Descriptive_Statistics.ipynb)."
   ]
  }
 ],
 "metadata": {
  "kernelspec": {
   "display_name": "Python",
   "language": "python",
   "name": "conda-env-python-py"
  },
  "language_info": {
   "codemirror_mode": {
    "name": "ipython",
    "version": 3
   },
   "file_extension": ".py",
   "mimetype": "text/x-python",
   "name": "python",
   "nbconvert_exporter": "python",
   "pygments_lexer": "ipython3",
   "version": "3.6.11"
  }
 },
 "nbformat": 4,
 "nbformat_minor": 4
}
